{
  "cells": [
    {
      "cell_type": "markdown",
      "metadata": {
        "id": "wwgkXbL2hCJK"
      },
      "source": [
        "## De novo generation of antibody binders with RFantibody\n",
        "[![colab.ipynb](https://img.shields.io/badge/github-%23121011.svg?logo=github)](https://github.com/mhoie/workshop/blob/main/workshop.ipynb)\n",
        "[![Open In Colab](https://colab.research.google.com/assets/colab-badge.svg)](https://colab.research.google.com/github/mhoie/workshop/blob/main/workshop.ipynb)"
      ]
    },
    {
      "cell_type": "markdown",
      "metadata": {
        "id": "GXkbBhvihCJK"
      },
      "source": [
        "In this notebook, you may choose your own antibody framework and target protein structure, and design novel antibody binders. This workflow by the [Baker Lab](https://www.bakerlab.org/2025/02/28/designing-antibodies-with-rfdiffusion/) has been shown to generate weak antibody binders in the μM to nM range, with ~2% experimental success rates for some degree of binding after in-silico filtering."
      ]
    },
    {
      "cell_type": "markdown",
      "metadata": {
        "id": "DbiPeDZ2hCJK"
      },
      "source": [
        "\n",
        "---\n"
      ]
    },
    {
      "cell_type": "markdown",
      "metadata": {
        "id": "JDKXwkQWhCJK"
      },
      "source": [
        "Antibody therapeutics represent a substantial market (approximately $550M USD) with tremendous potential for treating various diseases. Traditional approaches to antibody discovery are slow and laborious, typically involving immunizing mice or screening random libraries.\n",
        "\n",
        "This notebook implements the [RFAntibody pipeline](https://github.com/RosettaCommons/RFantibody/tree/main), described in this [pre-print](https://www.biorxiv.org/content/10.1101/2024.03.14.585103v2), for structure-based design of de novo antibodies against a chosen target.\n",
        "\n",
        "**Inputs:**\n",
        "- i) An input antibody framework (e.g. hu-4D5-8_Fv.pdb - a humanized ScFv antibody framework PDB\n",
        "- ii) A target protein of interest (e.g. respiratory syncytial virus (RSV) protein)\n",
        "- iii) Binding site on the target protein (epitope residues)\n",
        "\n",
        "**Workflow:**\n",
        "1. **RFDiffusion** generation of a bound antibody-antigen complex (backbone only) - using an antibody-finetuned version of RFdiffusion ([Nature paper](https://www.nature.com/articles/s41586-023-06415-8))\n",
        "2. **ProteinMPNN** generation of designed CDR sequences, the complementarity determining loops involved in antibody binding ([Science paper](https://www.science.org/doi/10.1126/science.add2187))\n",
        "3. **RosettaFold2** structure-prediction of designed sequences, to filter out low confidence structures - using an antibody-finetuned version of RoseTTAFold2 ([Preprint](https://www.biorxiv.org/content/10.1101/2023.05.24.542179v1)).\n",
        "\n",
        "The last step has been shown to dramatically improve experimental success rates, by a factor of 10-20X.\n",
        "\n",
        "**Output:**\n",
        "- De novo designed antibody sequences, predicted to bind the target protein"
      ]
    },
    {
      "cell_type": "markdown",
      "metadata": {
        "id": "uIOCojMfut1U"
      },
      "source": [
        "<div>\n",
        "<img src=\"https://github.com/mhoie/workshop/blob/main/img/whiteboard4.jpg?raw=1\" width=\"1000\"/>\n",
        "</div>"
      ]
    },
    {
      "cell_type": "markdown",
      "metadata": {
        "id": "FdNapblqut1U"
      },
      "source": [
        "**Advantages:**\n",
        "- Designs novel antibodies binding a target protein\n",
        "- Can target most epitope binding region of interest (preferring structured regions)\n",
        "- Focuses on designing antibody CDR loops (main residues determining binding)\n",
        "- Designs may be filtered by \"self-cosistency\" of predicted structures, correlating with experimental success rates\n",
        "\n",
        "**Current limitations:**\n",
        "- Generated antibodies at best tend to be weak binders (low binding affinities in μM to nM range)\n",
        "- Often low experimental success rates (~2% for some degree of binding) - heavily dependent on filtering\n",
        "- No screening for e.g. human immunogenicity"
      ]
    },
    {
      "cell_type": "markdown",
      "metadata": {
        "id": "u0tjwNeOut1U"
      },
      "source": [
        "**Read more:**\n",
        "- To read more about this workflow, please refer to the RFAntibody Github page: https://github.com/RosettaCommons/RFantibody/blob/main/README.md\n",
        "- And the Biorxiv pre-print by Bennett et al 2024: https://www.biorxiv.org/content/10.1101/2024.03.14.585103v2"
      ]
    },
    {
      "cell_type": "markdown",
      "metadata": {
        "id": "h3-v7gaCut1U"
      },
      "source": [
        "---"
      ]
    },
    {
      "cell_type": "markdown",
      "metadata": {
        "id": "yd-TURr3hCJL"
      },
      "source": [
        "## Pre-requisites for this workshop\n",
        "\n",
        "The only pre-requisites for this workshop are the following:\n",
        "- i) Register a BioLib account on [https://biolib.com/sign-up](https://biolib.com/sign-up), for running RFantibody jobs (requires a GPU) in the cloud.\n",
        "- ii) An antibody PDB and target protein structure PDB. Examples are provided below, but you may also provide your own following the instructions below."
      ]
    },
    {
      "cell_type": "markdown",
      "metadata": {
        "id": "GuvA6ZychCJL"
      },
      "source": [
        "#### i) Install pybiolib and login to biolib.com"
      ]
    },
    {
      "cell_type": "code",
      "execution_count": 1,
      "metadata": {
        "id": "NyBRznjZhCJL",
        "colab": {
          "base_uri": "https://localhost:8080/"
        },
        "outputId": "43b5332f-7fca-4403-cd6b-f47ea1135efb"
      },
      "outputs": [
        {
          "output_type": "stream",
          "name": "stdout",
          "text": [
            "\u001b[?25l   \u001b[90m━━━━━━━━━━━━━━━━━━━━━━━━━━━━━━━━━━━━━━━━\u001b[0m \u001b[32m0.0/155.7 kB\u001b[0m \u001b[31m?\u001b[0m eta \u001b[36m-:--:--\u001b[0m\r\u001b[2K   \u001b[90m━━━━━━━━━━━━━━━━━━━━━━━━━━━━━━━━━━━━━━━━\u001b[0m \u001b[32m155.7/155.7 kB\u001b[0m \u001b[31m4.8 MB/s\u001b[0m eta \u001b[36m0:00:00\u001b[0m\n",
            "\u001b[?25h\u001b[?25l   \u001b[90m━━━━━━━━━━━━━━━━━━━━━━━━━━━━━━━━━━━━━━━━\u001b[0m \u001b[32m0.0/147.8 kB\u001b[0m \u001b[31m?\u001b[0m eta \u001b[36m-:--:--\u001b[0m\r\u001b[2K   \u001b[90m━━━━━━━━━━━━━━━━━━━━━━━━━━━━━━━━━━━━━━━━\u001b[0m \u001b[32m147.8/147.8 kB\u001b[0m \u001b[31m9.5 MB/s\u001b[0m eta \u001b[36m0:00:00\u001b[0m\n",
            "\u001b[?25h"
          ]
        }
      ],
      "source": [
        "# Download BioLib\n",
        "!pip install --quiet --upgrade pybiolib"
      ]
    },
    {
      "cell_type": "code",
      "execution_count": 2,
      "metadata": {
        "colab": {
          "base_uri": "https://localhost:8080/",
          "height": 71
        },
        "id": "hpZtb9ewhCJL",
        "outputId": "ade8f962-7d6a-490c-ba6c-fefe074b0fb2"
      },
      "outputs": [
        {
          "output_type": "stream",
          "name": "stdout",
          "text": [
            "Opening authorization page at: https://biolib.com/sign-in/request/notebook/?token=22tx92xXHbeKx6BJ\n",
            "If your browser does not open automatically, click on the link above.\n"
          ]
        },
        {
          "output_type": "display_data",
          "data": {
            "text/plain": [
              "<IPython.core.display.Javascript object>"
            ],
            "application/javascript": []
          },
          "metadata": {}
        },
        {
          "output_type": "stream",
          "name": "stdout",
          "text": [
            "Successfully signed in!\n"
          ]
        }
      ],
      "source": [
        "# Login with BioLib\n",
        "import biolib\n",
        "biolib.login()"
      ]
    },
    {
      "cell_type": "markdown",
      "metadata": {
        "id": "ejdjtQRQhCJL"
      },
      "source": [
        "#### ii) Set input antibody and target PDB\n",
        "We're working with two primary input files for RFAntibody:\n",
        "\n",
        "1. **framework_pdb**: `hu-4D5-8_Fv.pdb` - A humanized ScFv antibody Framework\n",
        "2. **target_pdb**: `rsv_site3.pdb` - The target protein (RSV site 3) of interest\n",
        "3. List of hotspot residues defining our epitope (target binding site)\n",
        "\n",
        "Let's verify that these files exists."
      ]
    },
    {
      "cell_type": "code",
      "execution_count": 3,
      "metadata": {
        "id": "geQVU_mXhCJL",
        "colab": {
          "base_uri": "https://localhost:8080/"
        },
        "outputId": "821b7df2-5871-41da-9a88-f7b91866bdda"
      },
      "outputs": [
        {
          "output_type": "stream",
          "name": "stdout",
          "text": [
            "2025-04-01 18:04:45 URL:https://raw.githubusercontent.com/mhoie/workshop/refs/heads/main/hu-4D5-8_Fv.pdb [131172/131172] -> \"hu-4D5-8_Fv.pdb\" [1]\n",
            "2025-04-01 18:04:45 URL:https://raw.githubusercontent.com/mhoie/workshop/refs/heads/main/rsv_site3.pdb [461944/461944] -> \"rsv_site3.pdb\" [1]\n"
          ]
        }
      ],
      "source": [
        "# Download input files if not already present\n",
        "!wget --no-verbose -nc \"https://raw.githubusercontent.com/mhoie/workshop/refs/heads/main/hu-4D5-8_Fv.pdb\"\n",
        "!wget --no-verbose -nc \"https://raw.githubusercontent.com/mhoie/workshop/refs/heads/main/rsv_site3.pdb\""
      ]
    },
    {
      "cell_type": "markdown",
      "metadata": {
        "id": "VIFocUkhhCJL"
      },
      "source": [
        "#### iii) Bring your own target (optional)\n",
        "You may also choose your own antibody framework and target PDB. Please see the bottom of this notebook, and the RFAntibody guide linked below:\n",
        "https://github.com/RosettaCommons/RFantibody?tab=readme-ov-file#input-preparation\n",
        "\n"
      ]
    },
    {
      "cell_type": "markdown",
      "metadata": {
        "id": "H7zuln9qut1V"
      },
      "source": [
        "---"
      ]
    },
    {
      "cell_type": "markdown",
      "metadata": {
        "id": "d9kqKMCkhCJL"
      },
      "source": [
        "## Step 1 of 3: Generate antibody-antigen docking pose, with [RFDiffusion (antibody-finetuned)](https://biolib.com/BioITWorkshop/RFDiffusionAntibody)\n",
        "\n",
        "This step takes the input antibody framework and target protein, and designs the 3D structure of new CDR loops in interaction with the target protein (antibody-antigen docking pose). The CDR loops will be generated as backbones only (no residues), with the actual residues to be determined in the next step."
      ]
    },
    {
      "cell_type": "markdown",
      "metadata": {
        "id": "GhuETazlhCJL"
      },
      "source": [
        "#### [RFDiffusion input parameters](https://biolib.com/BioITWorkshop/RFDiffusionAntibody)\n",
        "\n",
        "- **framework_pdb**: Path to the antibody framework we're using (e.g. hu-4D5-8_Fv.pdb)\n",
        "- **target_pdb**: Path to the target protein structure (e.g. rsv_site3.pdb)\n",
        "- **hotspot_res**: List of hotspot residue (chain + position) defining target binding site / epitope. Must always start with T to follow HLT format (explained at end of notebook)\n",
        "- **design_loops**: Possible range of lengths of the CDR loops.\n",
        "  - L1, L2, L3: Light chain CDR loops\n",
        "  - H1, H2, H3: Heavy chain CDR loops\n",
        "  - Numbers specify length ranges (e.g., L1:8-13 means loop L1 can be 8-13 residues long)\n",
        "- **num_designs**: Number of 3D designs to generate (1)\n"
      ]
    },
    {
      "cell_type": "code",
      "execution_count": 4,
      "metadata": {
        "colab": {
          "base_uri": "https://localhost:8080/"
        },
        "id": "BKVVCyQNsiZt",
        "outputId": "d4b2dba0-bcbd-42ff-98c3-f75205a905b0"
      },
      "outputs": [
        {
          "output_type": "stream",
          "name": "stdout",
          "text": [
            "Framework PDB exists: True\n",
            "Target PDB exists: True\n",
            "(If these are missing, please download from https://github.com/mhoie/bioit-rfantibody before proceeding)\n"
          ]
        }
      ],
      "source": [
        "# RFDiffusion input\n",
        "framework_pdb = \"hu-4D5-8_Fv.pdb\"\n",
        "target_pdb = \"rsv_site3.pdb\"\n",
        "hotspot_res = \"[T305,T456]\" # E.g. chain T, position 305. Chain must always be T to follow HLT format (see end of notebook)\n",
        "\n",
        "# RFDiffusion parameters\n",
        "design_loops = \"[L1:8-13,L2:7,L3:9-11,H1:7,H2:6,H3:5-13]\" # Possible lengths of LCDR1, LCDR2, LCDR3, HCDR1, HCDR2, HCDR3\n",
        "num_designs = 1\n",
        "\n",
        "# Check that everything present\n",
        "import os\n",
        "print(f\"Framework PDB exists: {os.path.exists(framework_pdb)}\")\n",
        "print(f\"Target PDB exists: {os.path.exists(target_pdb)}\")\n",
        "print(f\"(If these are missing, please download from https://github.com/mhoie/bioit-rfantibody before proceeding)\")"
      ]
    },
    {
      "cell_type": "code",
      "execution_count": null,
      "metadata": {
        "colab": {
          "base_uri": "https://localhost:8080/"
        },
        "id": "s6CU5W0OhCJL",
        "outputId": "0aad0015-207a-4130-96ef-ad1aebe55f9e"
      },
      "outputs": [
        {
          "output_type": "stream",
          "name": "stderr",
          "text": [
            "INFO:biolib:Loaded project BioITWorkshop/RFDiffusionAntibody:1.0.7\n",
            "INFO:biolib:View the result in your browser at: https://biolib.com/results/098fbbd9-61ca-46cd-ac57-66ad9ef2f145/\n",
            "INFO:biolib:Cloud: The job has been queued. Please wait...\n",
            "INFO:biolib:Cloud: The job has been queued. Please wait...\n",
            "INFO:biolib:Cloud: The job has been queued. Please wait...\n",
            "INFO:biolib:Cloud: The job has been queued. Please wait...\n",
            "INFO:biolib:Cloud: The job has been queued. Please wait...\n",
            "INFO:biolib:Cloud: The job has been queued. Please wait...\n",
            "INFO:biolib:Cloud: The job has been queued. Please wait...\n",
            "INFO:biolib:Cloud: Initializing\n",
            "INFO:biolib:Cloud: Pulling images...\n",
            "INFO:biolib:Cloud: Computing...\n"
          ]
        },
        {
          "output_type": "stream",
          "name": "stdout",
          "text": [
            "Running RFDiffusion Antibody...\r\n",
            "Starting generation of 1 design(s)...\r\n",
            "Loading model...\n",
            "Design 0: timestep 5/50\n",
            "Design 0: timestep 10/50\n",
            "Design 0: timestep 15/50\n",
            "Design 0: timestep 20/50\n",
            "Design 0: timestep 25/50\n",
            "Design 0: timestep 30/50\n"
          ]
        }
      ],
      "source": [
        "# Run RFdiffusion through BioLib\n",
        "app_rfdiff = biolib.load('BioITWorkshop/RFDiffusionAntibody')  # Replace with actual RFantibody app ID\n",
        "job_rfdiff = app_rfdiff.run(\n",
        "    target_pdb=target_pdb,\n",
        "    framework_pdb=framework_pdb,\n",
        "    hotspot_res=hotspot_res,\n",
        "    design_loops=design_loops,\n",
        "    num_designs=num_designs,\n",
        ")\n",
        "job_rfdiff.save_files(\"output/rfdiffusion\")\n",
        "job_rfdiff.list_output_files()"
      ]
    },
    {
      "cell_type": "markdown",
      "metadata": {
        "id": "-Jl7-hS5hCJL"
      },
      "source": [
        "#### Wait for RFdiffusion output files (~4-5 minutes)\n",
        "The RFdiffusion step generates PDB files containing the antibody framework with designed CDR loops docked to the target protein. At this stage, the CDR loops have backbone structures but no amino acid sequences yet!\n",
        "\n",
        "Main output file:\n",
        "- output/rfdiffusion/_0.pdb - Antibody PDB backbone (N, Ca, C, O atoms only), lacking the CDR loop residues (which will be predicted in the next step)\n",
        "\n",
        "Example output format:\n",
        "```pdb\n",
        "ATOM      1  N   GLU H   1      23.793  -8.718 -21.757  1.00  1.00\n",
        "\n",
        "ATOM      2  CA  GLU H   1      23.755  -8.421 -20.330  1.00  1.00\n",
        "\n",
        "ATOM      3  C   GLU H   1      23.563  -6.931 -20.082  1.00  1.00\n",
        "\n",
        "ATOM      4  O   GLU H   1      23.856  -6.105 -20.947  1.00  1.00\n",
        "\n",
        "ATOM      5  N   VAL H   2      22.855  -6.630 -18.891  1.00  1.00\n",
        "```"
      ]
    },
    {
      "cell_type": "markdown",
      "metadata": {
        "id": "1DTHEuC-ut1W"
      },
      "source": [
        "### RFDiffusion training to predict protein structures\n",
        "<div>\n",
        "<img src=\"https://github.com/mhoie/workshop/blob/main/img/rfdiff.png?raw=1\" width=\"700\"/>\n",
        "</div>"
      ]
    },
    {
      "cell_type": "markdown",
      "metadata": {
        "id": "dbCF6KqSut1W"
      },
      "source": [
        "### Example RFDiffusion trajectory:\n",
        "\n",
        "<div>\n",
        "<img src=\"https://github.com/mhoie/workshop/blob/main/img/diffuse.gif?raw=1\" width=\"700\"/>\n",
        "</div>"
      ]
    },
    {
      "cell_type": "markdown",
      "metadata": {
        "id": "RSxrIpV9hCJM"
      },
      "source": [
        "## Step 2 of 3: Design binding CDR loop residues with [ProteinMPNN](https://biolib.com/BioITWorkshop/ProteinMPNNAb)\n",
        "\n",
        "The second step takes the docks generated by RFdiffusion and assigns amino acid sequences to the CDR loops using ProteinMPNN. We use the base version of ProteinMPNN (not an antibody-finetuned model) with a wrapper script that focuses on designing just the CDR loops.\n",
        "\n",
        "#### [ProteinMPNN input parameters](https://biolib.com/BioITWorkshop/ProteinMPNNAb)\n",
        "- **pdb**: Directory containing the previous RFdiffusion output PDB files, or a single PDB file\n",
        "- **num_seqs_per_struct**: Number of sequences to design per input structure PDB file"
      ]
    },
    {
      "cell_type": "code",
      "execution_count": null,
      "metadata": {
        "id": "AfmUon9ThCJM"
      },
      "outputs": [],
      "source": [
        "# Input directory\n",
        "input_dir = \"output/rfdiffusion\"  # Using the output from RFdiffusion\n",
        "\n",
        "# Run ProteinMPNN\n",
        "app_mpnn = biolib.load('BioITWorkshop/ProteinMPNN')\n",
        "job_mpnn = app_mpnn.run(\n",
        "    pdb=input_dir,\n",
        "    num_seqs_per_struct=3\n",
        ")\n",
        "job_mpnn.save_files(\"output/proteinmpnn\")\n",
        "job_mpnn.list_output_files()"
      ]
    },
    {
      "cell_type": "markdown",
      "metadata": {
        "id": "m17IkYofhCJM"
      },
      "source": [
        "#### Wait for ProteinMPNN output files (<1 minute)\n",
        "ProteinMPNN outputs PDB files with the same structures as the input but with amino acid sequences designed for the CDR loops. By default, it provides one sequence per input structure.\n",
        "\n",
        "Output files:\n",
        "- ab_design_0_dldesign_0.pdb (antibody structure with predicted CDR residues)\n",
        "- ab_design_0_dldesign_1.pdb (antibody structure with predicted CDR residues)\n",
        "- ... etc\n",
        "\n",
        "\n",
        "Example output:\n",
        "```pdb\n",
        "ATOM      1  N   GLU H   1      23.793  -8.718 -21.757  1.00  0.00\n",
        "ATOM      2  CA  GLU H   1      23.755  -8.421 -20.330  1.00  0.00\n",
        "ATOM      3  C   GLU H   1      23.563  -6.931 -20.082  1.00  0.00\n",
        "ATOM      4  O   GLU H   1      23.856  -6.105 -20.947  1.00  0.00\n",
        "ATOM      5  N   VAL H   2      22.855  -6.630 -18.891  1.00  0.00\n",
        "ATOM      6  CA  VAL H   2      22.864  -5.216 -18.533  1.00  0.00\n",
        "```"
      ]
    },
    {
      "cell_type": "markdown",
      "metadata": {
        "id": "g3v6Po30hCJM"
      },
      "source": [
        "## Step 3 / 3: Predict structure and filter for self-consistency, with [RosettaFold2 (antibody fine-tuned)](https://biolib.com/BioITWorkshop/RF2Antibody)\n",
        "\n",
        "The final step uses an antibody-finetuned version of RoseTTAFold2 (RF2) to predict the structure of the designed sequences and assess whether RF2 is confident that the sequence will bind as designed.\n",
        "\n",
        "### [RosettaFold2 input parameters](https://biolib.com/BioITWorkshop/RF2Antibody)\n",
        "\n",
        "- **input.pdb_dir**: Directory containing the PDB files from ProteinMPNN\n",
        "- **num_recycles**: Number of recycling iterations in the model (default: 10). Higher numbers up to 10 improves accuracy but at increased computational time"
      ]
    },
    {
      "cell_type": "code",
      "execution_count": null,
      "metadata": {
        "id": "PjZ8w1kChCJM"
      },
      "outputs": [],
      "source": [
        "# Input directory\n",
        "input_dir = \"output/proteinmpnn\"  # Using the output from ProteinMPNN\n",
        "\n",
        "# Run RosettaFold2\n",
        "app_rf2 = biolib.load('BioITWorkshop/RF2Antibody')  # Replace with actual app ID\n",
        "job_rf2 = app_rf2.run(\n",
        "    pdb=input_dir,\n",
        "    num_recycles=3,\n",
        ")\n",
        "job_rf2.save_files(\"output/rosettafold2\")\n",
        "job_rf2.list_output_files()"
      ]
    },
    {
      "cell_type": "markdown",
      "metadata": {
        "id": "cL4SetBkhCJM"
      },
      "source": [
        "#### Wait for RosettaFold2 output files (1-2 minutes)\n",
        "RosettaFold2 predicts the structure of the designed antibodies and provides confidence metrics. We can use these to filter for promising designs.\n",
        "\n",
        "Output files:\n",
        "- scores.csv - Predicted structural quality scores for filtering of designs\n",
        "- ab_design_0_dldesign_1.pdb - Predicted structure of design 0\n",
        "- ab_design_0_dldesign_2.pdb - Predicted structure of design 1\n",
        "- ... etc\n",
        "\n",
        "Example output scores.tsv:\n",
        "```csv\n",
        "interaction_pae,pae,    pred_lddt,  target_aligned_antibody_rmsd, ..., framework_aligned_cdr_rmsd, ...\n",
        "8.07,           8.77,   0.9,        11.53,                        ..., 2.18,                       ...\n",
        "7.52,           8.19,   0.89,       18.97,                        ..., 2.4,                        ...\n",
        "8.47,           9.15,   0.9,        10.8,                        ...,  2.35,                       ...\n",
        "\n",
        "```\n",
        "\n",
        "The RFantibody protocol recommends filtering on the following metrics, shown to lead to an up to 10X improvement in experimental success rates.\n",
        "- RF2 predicted alignment error (pAE) < 10 (pae column)\n",
        "- RMSD between design and RF2 prediction < 2.00 Å for the CDRs (framework_aligned_cdr_rmsd column)\n",
        "\n",
        "\n",
        "Lower pAE values correlates strongly with improved accuracy of the designed antibody docks, and experimental success rate (see [pre-print Extended Data Figure 2B](https://www.biorxiv.org/content/10.1101/2024.03.14.585103v2) )\n",
        "\n",
        "<div>\n",
        "<img src=\"https://github.com/mhoie/workshop/blob/main/img/pae.png?raw=1\" width=\"400\"/>\n",
        "</div>"
      ]
    },
    {
      "cell_type": "markdown",
      "metadata": {
        "id": "tBQ2Jyp8hlcH"
      },
      "source": [
        "---"
      ]
    },
    {
      "cell_type": "markdown",
      "metadata": {
        "id": "-ohAYF6qhCJM"
      },
      "source": [
        "## Conclusion\n",
        "\n",
        "This notebook has demonstrated the complete RFantibody pipeline for structure-based design of de novo antibodies. The workflow consists of three main steps:\n",
        "\n",
        "1. **RFdiffusion (antibody fine-tuned)**: Generating antibody-target docking poses with designed CDR loop structures\n",
        "2. **ProteinMPNN**: Designing amino acid sequences for the CDR loops\n",
        "3. **RosettaFold2 (antibody fine-tuned)**: Filtering designs based on predicted structure quality\n",
        "\n",
        "This computational pipeline can generate designs with a success rate of approximately 2% for some degree of binding to the target. Further experimental validation and optimization is likely to be required to improve binding affinity and other pharmaceutical properties.\n",
        "\n",
        "For larger scale antibody design campaigns, we recommended to generating thousands of designs to increase the chances of finding high-quality binders, as the current filtering metrics are still highly limited."
      ]
    },
    {
      "cell_type": "markdown",
      "metadata": {
        "id": "dinnqcgAhlcH"
      },
      "source": [
        "<div>\n",
        "<img src=\"https://github.com/mhoie/workshop/blob/main/img/rfantibody.png?raw=1\" width=\"700\"/>\n",
        "</div>\n",
        "\n",
        "For practical tips on antibody design, we refer to Baker Lab's RFAntibody README's [practical considerations for Antibody Design ](https://github.com/RosettaCommons/RFantibody/blob/main/README.md#practical-considerations-for-antibody-design)."
      ]
    },
    {
      "cell_type": "markdown",
      "metadata": {
        "id": "7A0ASUdyhlcH"
      },
      "source": [
        "---"
      ]
    },
    {
      "cell_type": "markdown",
      "metadata": {
        "id": "3ESnZr39rdTR"
      },
      "source": [
        "## What to try next\n",
        "\n",
        "(Before processing, remember to rename your output folder to e.g. output2, or you'll be re-running old results!)"
      ]
    },
    {
      "cell_type": "code",
      "execution_count": null,
      "metadata": {
        "id": "C3oYI3TLhlcH"
      },
      "outputs": [],
      "source": [
        "!mv output/ output_old"
      ]
    },
    {
      "cell_type": "markdown",
      "metadata": {
        "id": "eIKRyPuihlcH"
      },
      "source": [
        "## A) Generate antibodies against a new target protein\n",
        "In order to provide your own target PDB, you'll need to convert it into an HLT format first ([described here](https://github.com/RosettaCommons/RFantibody/blob/main/README.md#hlt-file-format) ).\n",
        "\n",
        "- i) Upload your target PDB file to the TargetPDBtoHLT app on BioLib: https://biolib.com/BioITWorkshop/TargetPDBtoHLT/\n",
        "- ii) Upload the processed PDB to Google colab\n",
        "- iii) Change the target_pdb parameter in Step 1 on top of the notebook\n",
        "- iv) Select the target epitope residues\n",
        "\n"
      ]
    },
    {
      "cell_type": "markdown",
      "metadata": {
        "id": "qf72kS4shlcH"
      },
      "source": [
        "### Example new target workflow\n",
        "\n",
        "0. Remove anything currently in the output/ folder on Google Colab (or rename this folder to output2)\n",
        "\n",
        "1. Choose a target from RCSB, e.g. the X-ray structure of 1M47 Human interleukin-2: https://www.rcsb.org/structure/1M47\n",
        "\n",
        "<img src=\"https://github.com/mhoie/workshop/blob/main/img/rcsb_IL.png?raw=1\" style=\"width:40%;\">\n",
        "\n",
        "2. Predict likely epitope residues with a tool like DiscoTope-3.0: https://biolib.com/DTU/DiscoTope-3\n",
        "\n",
        "<img src=\"https://github.com/mhoie/workshop/blob/main/img/discotope3.png?raw=1\" style=\"width:40%;\">\n",
        "\n",
        "3. Process the PDB file with the TargetPDBtoHLT app: https://biolib.com/BioITWorkshop/TargetPDBtoHLT/\n",
        "\n",
        "4. Upload the processed PDB to Google Colab, and change the target_pdb variable to e.g. '1m47_T.pdb' (in Step 1)\n",
        "\n",
        "<img src=\"https://github.com/mhoie/workshop/blob/main/img/change_params.png?raw=1\" style=\"width:30%;\">\n",
        "\n",
        "5. Change the epitope_residues variable to e.g. '[T41, T111]' based on predicted epitopes (Note: T is the chain (must always be T), and number corresponds to the residue position in the PDB)\n",
        "\n",
        "6. Run through the workflow as normal.\n",
        "\n",
        "For this target, the known antibody-antigen dock is available at SAbDab for comparison:\n",
        "https://opig.stats.ox.ac.uk/webapps/sabdab-sabpred/sabdab/structureviewer/?pdb=8sow\n"
      ]
    },
    {
      "cell_type": "code",
      "execution_count": null,
      "metadata": {
        "id": "cCn0RyTlhlcH"
      },
      "outputs": [],
      "source": []
    },
    {
      "cell_type": "markdown",
      "metadata": {
        "id": "oB8hc88ahlcH"
      },
      "source": [
        "## B) Try a nanobody framework\n",
        "\n",
        "Swap out the heavy + light chain ScFv antibody framework (hu-4D5-8_Fv) for a nanobody framework instead:\n",
        "\n",
        "```bash\n",
        "framework_pdb = \"h-NbBCII10.pdb\"\n",
        "```\n",
        "\n",
        "h-NbBcII10FGLA is a widely used, humanized nanobody framework. Due to their smaller size and ease of assembly, nanobodies are hugely popular in antibody design. Two FDA-approved nanobody therapeutics already exist on the market (see [pre-print](https://www.biorxiv.org/content/10.1101/2024.03.14.585103v2) )"
      ]
    },
    {
      "cell_type": "code",
      "execution_count": null,
      "metadata": {
        "id": "9ViQAWHAhlcQ"
      },
      "outputs": [],
      "source": []
    },
    {
      "cell_type": "markdown",
      "metadata": {
        "id": "0OZeDzRRhlcR"
      },
      "source": [
        "## C) Optimize the workflow\n",
        "\n",
        "Optimize the following parameters to increase diversity of the generated designs, aiming to get the lowest possible pAE + CDR RMSD design.\n",
        "\n",
        "- i) Antibody framework\n",
        "- ii) Target PDB\n",
        "- iii) Epitope residues\n",
        "- iv) No. 3D backbone designs (RFDiffusion)\n",
        "- v) CDR loop lengths (RFDiffusion)\n",
        "- vi) No. designed sequences (ProteinMPNN)"
      ]
    },
    {
      "cell_type": "code",
      "execution_count": null,
      "metadata": {
        "id": "nxQQSdTNhlcR"
      },
      "outputs": [],
      "source": []
    },
    {
      "cell_type": "markdown",
      "metadata": {
        "id": "bJNoxlpzhlcR"
      },
      "source": []
    },
    {
      "cell_type": "markdown",
      "metadata": {
        "id": "XxlBkFQphlcR"
      },
      "source": []
    }
  ],
  "metadata": {
    "colab": {
      "provenance": []
    },
    "kernelspec": {
      "display_name": "base",
      "language": "python",
      "name": "python3"
    },
    "language_info": {
      "codemirror_mode": {
        "name": "ipython",
        "version": 3
      },
      "file_extension": ".py",
      "mimetype": "text/x-python",
      "name": "python",
      "nbconvert_exporter": "python",
      "pygments_lexer": "ipython3",
      "version": "3.12.4"
    }
  },
  "nbformat": 4,
  "nbformat_minor": 0
}