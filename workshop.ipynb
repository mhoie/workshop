{
  "cells": [
    {
      "cell_type": "markdown",
      "metadata": {
        "id": "wwgkXbL2hCJK"
      },
      "source": [
        "## De novo generation of antibody binders with RFantibody\n",
        "[![colab.ipynb](https://img.shields.io/badge/github-%23121011.svg?logo=github)](https://github.com/mhoie/workshop/blob/main/workshop.ipynb)\n",
        "[![Open In Colab](https://colab.research.google.com/assets/colab-badge.svg)](https://colab.research.google.com/github/mhoie/workshop/blob/main/workshop.ipynb)"
      ]
    },
    {
      "cell_type": "markdown",
      "metadata": {
        "id": "GXkbBhvihCJK"
      },
      "source": [
        "In this notebook, you may choose your own antibody framework and target protein structure, and design novel antibody binders. This workflow by the [Baker Lab](https://www.bakerlab.org/2025/02/28/designing-antibodies-with-rfdiffusion/) has been shown to generate weak antibody binders in the μM to nM range, with ~2% experimental success rates for some degree of binding after in-silico filtering."
      ]
    },
    {
      "cell_type": "markdown",
      "metadata": {
        "id": "DbiPeDZ2hCJK"
      },
      "source": [
        "\n",
        "---\n"
      ]
    },
    {
      "cell_type": "markdown",
      "metadata": {
        "id": "JDKXwkQWhCJK"
      },
      "source": [
        "Antibody therapeutics represent a substantial market (approximately $550M USD) with tremendous potential for treating various diseases. Traditional approaches to antibody discovery are slow and laborious, typically involving immunizing mice or screening random libraries.\n",
        "\n",
        "This notebook implements the [RFAntibody pipeline](https://github.com/RosettaCommons/RFantibody/tree/main), described in this [pre-print](https://www.biorxiv.org/content/10.1101/2024.03.14.585103v2), for structure-based design of de novo antibodies against a chosen target.\n",
        "\n",
        "**Inputs:**\n",
        "- i) An input antibody framework (e.g. hu-4D5-8_Fv.pdb - a humanized ScFv antibody framework PDB\n",
        "- ii) A target protein of interest (e.g. respiratory syncytial virus (RSV) protein)\n",
        "- iii) Binding site on the target protein (epitope residues)\n",
        "\n",
        "**Workflow:**\n",
        "1. **RFDiffusion** generation of a bound antibody-antigen complex (backbone only) - using an antibody-finetuned version of RFdiffusion ([Nature paper](https://www.nature.com/articles/s41586-023-06415-8))\n",
        "2. **ProteinMPNN** generation of designed CDR sequences, the complementarity determining loops involved in antibody binding ([Science paper](https://www.science.org/doi/10.1126/science.add2187))\n",
        "3. **RosettaFold2** structure-prediction of designed sequences, to filter out low confidence structures - using an antibody-finetuned version of RoseTTAFold2 ([Preprint](https://www.biorxiv.org/content/10.1101/2023.05.24.542179v1)).\n",
        "\n",
        "The last step has been shown to dramatically improve experimental success rates, by a factor of 10-20X.\n",
        "\n",
        "**Output:**\n",
        "- De novo designed antibody sequences, predicted to bind the target protein"
      ]
    },
    {
      "cell_type": "markdown",
      "metadata": {
        "id": "uIOCojMfut1U"
      },
      "source": [
        "<img src=\"https://github.com/mhoie/workshop/blob/main/img/whiteboard4.jpg?raw=1\" style=\"width:60%;\">"
      ]
    },
    {
      "cell_type": "markdown",
      "metadata": {
        "id": "FdNapblqut1U"
      },
      "source": [
        "**Advantages:**\n",
        "- Designs novel antibodies binding a target protein\n",
        "- Can target most epitope binding region of interest (preferring structured regions)\n",
        "- Focuses on designing antibody CDR loops (main residues determining binding)\n",
        "- Designs may be filtered by \"self-cosistency\" of predicted structures, correlating with experimental success rates\n",
        "\n",
        "**Current limitations:**\n",
        "- Generated antibodies at best tend to be weak binders (low binding affinities in μM to nM range)\n",
        "- Often low experimental success rates (~2% for some degree of binding) - heavily dependent on filtering\n",
        "- No screening for e.g. human immunogenicity"
      ]
    },
    {
      "cell_type": "markdown",
      "metadata": {
        "id": "u0tjwNeOut1U"
      },
      "source": [
        "**Read more:**\n",
        "- To read more about this workflow, please refer to the RFAntibody Github page: https://github.com/RosettaCommons/RFantibody/blob/main/README.md\n",
        "- And the Biorxiv pre-print by Bennett et al 2024: https://www.biorxiv.org/content/10.1101/2024.03.14.585103v2"
      ]
    },
    {
      "cell_type": "markdown",
      "metadata": {
        "id": "h3-v7gaCut1U"
      },
      "source": [
        "---"
      ]
    },
    {
      "cell_type": "markdown",
      "metadata": {
        "id": "yd-TURr3hCJL"
      },
      "source": [
        "## Pre-requisites for this workshop\n",
        "\n",
        "The only pre-requisites for this workshop are the following:\n",
        "- i) Register a BioLib account on [https://biolib.com/sign-up](https://biolib.com/sign-up), for running RFantibody jobs (requires a GPU) in the cloud.\n",
        "- ii) An antibody PDB and target protein structure PDB. Examples are provided below, but you may also provide your own following the instructions below."
      ]
    },
    {
      "cell_type": "markdown",
      "metadata": {
        "id": "GuvA6ZychCJL"
      },
      "source": [
        "#### i) Install pybiolib and login to biolib.com"
      ]
    },
    {
      "cell_type": "code",
      "execution_count": null,
      "metadata": {
        "id": "NyBRznjZhCJL"
      },
      "outputs": [],
      "source": [
        "# Download BioLib\n",
        "!pip install --quiet --upgrade pybiolib"
      ]
    },
    {
      "cell_type": "code",
      "execution_count": null,
      "metadata": {
        "colab": {
          "base_uri": "https://localhost:8080/"
        },
        "id": "hpZtb9ewhCJL",
        "outputId": "20226cc7-c02d-478d-daf8-85841d574f45"
      },
      "outputs": [
        {
          "name": "stdout",
          "output_type": "stream",
          "text": [
            "2025-04-01 11:58:47,180 | INFO : Already signed in\n"
          ]
        }
      ],
      "source": [
        "# Login with BioLib\n",
        "import biolib\n",
        "biolib.login()"
      ]
    },
    {
      "cell_type": "markdown",
      "metadata": {
        "id": "ejdjtQRQhCJL"
      },
      "source": [
        "#### ii) Set input antibody and target PDB\n",
        "We're working with two primary input files for RFAntibody:\n",
        "\n",
        "1. **framework_pdb**: `hu-4D5-8_Fv.pdb` - A humanized ScFv antibody Framework\n",
        "2. **target_pdb**: `rsv_site3.pdb` - The target protein (RSV site 3) of interest\n",
        "3. List of hotspot residues defining our epitope (target binding site)\n",
        "\n",
        "Let's verify that these files exists."
      ]
    },
    {
      "cell_type": "code",
      "execution_count": null,
      "metadata": {
        "id": "geQVU_mXhCJL"
      },
      "outputs": [],
      "source": [
        "# Download input files if not already present\n",
        "!wget --no-verbose -nc \"https://raw.githubusercontent.com/mhoie/workshop/refs/heads/main/hu-4D5-8_Fv.pdb\"\n",
        "!wget --no-verbose -nc \"https://raw.githubusercontent.com/mhoie/workshop/refs/heads/main/rsv_site3.pdb\""
      ]
    },
    {
      "cell_type": "markdown",
      "metadata": {
        "id": "VIFocUkhhCJL"
      },
      "source": [
        "#### iii) Bring your own target (optional)\n",
        "You may also choose your own antibody framework and target PDB. Please see the bottom of this notebook, and the RFAntibody guide linked below:\n",
        "https://github.com/RosettaCommons/RFantibody?tab=readme-ov-file#input-preparation\n",
        "\n"
      ]
    },
    {
      "cell_type": "markdown",
      "metadata": {
        "id": "H7zuln9qut1V"
      },
      "source": [
        "---"
      ]
    },
    {
      "cell_type": "markdown",
      "metadata": {
        "id": "d9kqKMCkhCJL"
      },
      "source": [
        "## Step 1 of 3: Generate antibody-antigen docking pose, with [RFDiffusion (antibody-finetuned)](https://biolib.com/BioITWorkshop/RFDiffusionAntibody)\n",
        "\n",
        "This step takes the input antibody framework and target protein, and designs the 3D structure of new CDR loops in interaction with the target protein (antibody-antigen docking pose). The CDR loops will be generated as backbones only (no residues), with the actual residues to be determined in the next step."
      ]
    },
    {
      "cell_type": "markdown",
      "metadata": {
        "id": "GhuETazlhCJL"
      },
      "source": [
        "#### [RFDiffusion input parameters](https://biolib.com/BioITWorkshop/RFDiffusionAntibody)\n",
        "\n",
        "- **framework_pdb**: Path to the antibody framework we're using (e.g. hu-4D5-8_Fv.pdb)\n",
        "- **target_pdb**: Path to the target protein structure (e.g. rsv_site3.pdb)\n",
        "- **hotspot_res**: List of hotspot residues defining our epitope (target binding site)\n",
        "- **design_loops**: Possible range of lengths of the CDR loops.\n",
        "  - L1, L2, L3: Light chain CDR loops\n",
        "  - H1, H2, H3: Heavy chain CDR loops\n",
        "  - Numbers specify length ranges (e.g., L1:8-13 means loop L1 can be 8-13 residues long)\n",
        "- **num_designs**: Number of 3D designs to generate (1)\n"
      ]
    },
    {
      "cell_type": "code",
      "execution_count": null,
      "metadata": {
        "colab": {
          "base_uri": "https://localhost:8080/"
        },
        "id": "BKVVCyQNsiZt",
        "outputId": "2a70184a-147a-42d5-8369-0e3eaa6fffb9"
      },
      "outputs": [
        {
          "name": "stdout",
          "output_type": "stream",
          "text": [
            "Framework PDB exists: True\n",
            "Target PDB exists: True\n",
            "(If these are missing, please download from https://github.com/mhoie/bioit-rfantibody before proceeding)\n"
          ]
        }
      ],
      "source": [
        "# RFDiffusion input\n",
        "framework_pdb = \"hu-4D5-8_Fv.pdb\"\n",
        "target_pdb = \"rsv_site3.pdb\"\n",
        "hotspot_res = \"[T305,T456]\"\n",
        "\n",
        "# RFDiffusion parameters\n",
        "design_loops = \"[L1:8-13,L2:7,L3:9-11,H1:7,H2:6,H3:5-13]\"\n",
        "num_designs = 1\n",
        "\n",
        "# Check that everything present\n",
        "import os\n",
        "print(f\"Framework PDB exists: {os.path.exists(framework_pdb)}\")\n",
        "print(f\"Target PDB exists: {os.path.exists(target_pdb)}\")\n",
        "print(f\"(If these are missing, please download from https://github.com/mhoie/bioit-rfantibody before proceeding)\")"
      ]
    },
    {
      "cell_type": "code",
      "execution_count": null,
      "metadata": {
        "colab": {
          "base_uri": "https://localhost:8080/"
        },
        "id": "s6CU5W0OhCJL",
        "outputId": "b5166af4-f602-4133-b453-d5469ab05825"
      },
      "outputs": [
        {
          "name": "stdout",
          "output_type": "stream",
          "text": [
            "2025-04-01 11:59:10,896 | INFO : Loaded project BioITWorkshop/RFDiffusionAntibody:1.0.6\n",
            "2025-04-01 11:59:13,484 | INFO : View the result in your browser at: https://biolib.com/results/9fdde2f8-151c-4ff4-aa45-7daecc4ec8c3/\n",
            "2025-04-01 11:59:16,631 | INFO : Cloud: Initializing\n",
            "2025-04-01 11:59:16,633 | INFO : Cloud: Pulling images...\n",
            "2025-04-01 11:59:16,634 | INFO : Cloud: Computing...\n",
            "Running RFDiffusion Antibody...\n",
            "Starting generation of 1 design(s)...\n",
            "Loading model...\n",
            "Design 0: timestep 5/50\n",
            "Design 0: timestep 10/50\n",
            "Design 0: timestep 15/50\n",
            "Design 0: timestep 20/50\n",
            "Design 0: timestep 25/50\n",
            "Design 0: timestep 30/50\n",
            "Design 0: timestep 35/50\n",
            "Design 0: timestep 40/50\n",
            "Design 0: timestep 45/50\n",
            "2025-04-01 12:04:34,666 | INFO : Cloud: Computation finished\n",
            "Completed generating 1 design(s)...\n",
            "2025-04-01 12:04:37,353 | INFO : Cloud: Result Ready\n",
            "2025-04-01 12:04:37,355 | INFO : Waiting for job 9fdde2f8-151c-4ff4-aa45-7daecc4ec8c3 to finish...\n",
            "2025-04-01 12:04:38,094 | INFO : Job 9fdde2f8-151c-4ff4-aa45-7daecc4ec8c3 has finished.\n",
            "2025-04-01 12:04:39,969 | INFO : Saving 4 files to output/rfdiffusion...\n",
            "Skipping output/rfdiffusion/ab_design_0.trb as a file with that name already exists locally.\n",
            "Skipping output/rfdiffusion/ab_design_0.pdb as a file with that name already exists locally.\n",
            "Skipping output/rfdiffusion/traj/ab_design_0_Xt-1_traj.pdb as a file with that name already exists locally.\n",
            "Skipping output/rfdiffusion/traj/ab_design_0_pX0_traj.pdb as a file with that name already exists locally.\n"
          ]
        },
        {
          "data": {
            "text/plain": [
              "[File \"/ab_design_0.trb\" with size of 74149 bytes,\n",
              " File \"/ab_design_0.pdb\" with size of 97725 bytes,\n",
              " File \"/traj/ab_design_0_Xt-1_traj.pdb\" with size of 3649505 bytes,\n",
              " File \"/traj/ab_design_0_pX0_traj.pdb\" with size of 8623250 bytes]"
            ]
          },
          "execution_count": 15,
          "metadata": {},
          "output_type": "execute_result"
        }
      ],
      "source": [
        "# Run RFdiffusion through BioLib\n",
        "app_rfdiff = biolib.load('BioITWorkshop/RFDiffusionAntibody')  # Replace with actual RFantibody app ID\n",
        "job_rfdiff = app_rfdiff.run(\n",
        "    target_pdb=target_pdb,\n",
        "    framework_pdb=framework_pdb,\n",
        "    hotspot_res=hotspot_res,\n",
        "    design_loops=design_loops,\n",
        "    num_designs=num_designs,\n",
        ")\n",
        "job_rfdiff.save_files(\"output/rfdiffusion\")\n",
        "job_rfdiff.list_output_files()"
      ]
    },
    {
      "cell_type": "markdown",
      "metadata": {
        "id": "-Jl7-hS5hCJL"
      },
      "source": [
        "#### Wait for RFdiffusion output files (~4-5 minutes)\n",
        "The RFdiffusion step generates PDB files containing the antibody framework with designed CDR loops docked to the target protein. At this stage, the CDR loops have backbone structures but no amino acid sequences yet!\n",
        "\n",
        "Main output file:\n",
        "- output/rfdiffusion/_0.pdb - Antibody PDB backbone (N, Ca, C, O atoms only), lacking the CDR loop residues (which will be predicted in the next step)\n",
        "\n",
        "Example output format:\n",
        "```pdb\n",
        "ATOM      1  N   GLU H   1      23.793  -8.718 -21.757  1.00  1.00\n",
        "\n",
        "ATOM      2  CA  GLU H   1      23.755  -8.421 -20.330  1.00  1.00\n",
        "\n",
        "ATOM      3  C   GLU H   1      23.563  -6.931 -20.082  1.00  1.00\n",
        "\n",
        "ATOM      4  O   GLU H   1      23.856  -6.105 -20.947  1.00  1.00\n",
        "\n",
        "ATOM      5  N   VAL H   2      22.855  -6.630 -18.891  1.00  1.00\n",
        "```"
      ]
    },
    {
      "cell_type": "markdown",
      "metadata": {
        "id": "1DTHEuC-ut1W"
      },
      "source": [
        "### RFDiffusion training to predict protein structures\n",
        "<img src=\"https://github.com/mhoie/workshop/blob/main/img/rfdiff.png?raw=1\" style=\"width:60%;\">"
      ]
    },
    {
      "cell_type": "markdown",
      "metadata": {
        "id": "dbCF6KqSut1W"
      },
      "source": [
        "### Example RFDiffusion trajectory:\n",
        "![img/diffuse.gif](https://github.com/mhoie/workshop/blob/main/img/diffuse.gif?raw=1)"
      ]
    },
    {
      "cell_type": "markdown",
      "metadata": {
        "id": "RSxrIpV9hCJM"
      },
      "source": [
        "## Step 2 of 3: Design binding CDR loop residues with [ProteinMPNN](https://biolib.com/BioITWorkshop/ProteinMPNNAb)\n",
        "\n",
        "The second step takes the docks generated by RFdiffusion and assigns amino acid sequences to the CDR loops using ProteinMPNN. We use the base version of ProteinMPNN (not an antibody-finetuned model) with a wrapper script that focuses on designing just the CDR loops.\n",
        "\n",
        "#### [ProteinMPNN input parameters](https://biolib.com/BioITWorkshop/ProteinMPNNAb)\n",
        "- **pdb**: Directory containing the previous RFdiffusion output PDB files, or a single PDB file\n",
        "- **num_seqs_per_struct**: Number of sequences to design per input structure PDB file"
      ]
    },
    {
      "cell_type": "code",
      "execution_count": null,
      "metadata": {
        "colab": {
          "base_uri": "https://localhost:8080/"
        },
        "id": "AfmUon9ThCJM",
        "outputId": "6d33d5ba-906c-4dd3-8906-4aad1465c56e"
      },
      "outputs": [
        {
          "name": "stdout",
          "output_type": "stream",
          "text": [
            "2025-04-01 12:15:41,730 | INFO : Loaded project BioITWorkshop/ProteinMPNN:1.0.3\n",
            "2025-04-01 12:15:50,436 | INFO : View the result in your browser at: https://biolib.com/results/c2f0af11-4e42-45f0-b3fb-25e71bf7f9f5/\n",
            "2025-04-01 12:15:52,636 | INFO : Cloud: Initializing\n",
            "2025-04-01 12:15:52,638 | INFO : Cloud: Pulling images...\n",
            "2025-04-01 12:15:52,639 | INFO : Cloud: Computing...\n",
            "Processing all PDB files in rfdiffusion\n",
            "Running with args:  ['poetry', 'run', 'python', '/opt/rfantibody/scripts/proteinmpnn_interface_design.py', '-pdbdir', 'rfdiffusion', '-outpdbdir', 'output/', '-checkpoint_path', '/opt/rfantibody/weights/ProteinMPNN_v48_noise_0.2.pt', '-seqs_per_struct', '3']\n",
            "Found GPU will run ProteinMPNN on GPU\n",
            "Attempting pose: rfdiffusion/ab_design_0.pdb\n",
            "loopH: [25, 26, 27, 28, 29, 30, 31, 51, 52, 53, 54, 55, 56, 98, 99, 100, 101, 102, 103, 104, 105, 106, 107, 108, 109, 110]\n",
            "loopL: [145, 146, 147, 148, 149, 150, 151, 152, 153, 154, 155, 156, 157, 173, 174, 175, 176, 177, 178, 179, 212, 213, 214, 215, 216, 217, 218, 219, 220]\n",
            "MPNN generated 3 sequences in 3 seconds\n",
            "sequence_optimize: [('EVQLVESGGGLVQPGGSLRLSCAASGFDLSTGYIHWVRQAPGKGLEWVARIHPATGGTRYADSVKGRFTISADTSKNTAYLQMNSLRAEDTAVYYCSYGDRTPGGGIILRGWGQGTLVTVSSDIQMTQSPSSLSASVGDRVTITAKTSSPVPSTSALGWYQQKPGKAPKLLIYNAYNRAGGVPSRFSGSRSGTDFTLTISSLQPEDFATYYQQYSGTEPIGFGQGTKVEIK', 1.3614494), ('EVQLVESGGGLVQPGGSLRLSCAASGFDLSTGYIHWVRQAPGKGLEWVARIHPATGGTRYADSVKGRFTISADTSKNTAYLQMNSLRAEDTAVYYCSYAVKTPGGGYVLRGWGQGTLVTVSSDIQMTQSPSSLSASVGDRVTITGKLSSPVPSTSALGWYQQKPGKAPKLLIYNAYNRAGGVPSRFSGSRSGTDFTLTISSLQPEDFATYYQQYSGTEPIGFGQGTKVEIK', 1.3271202), ('EVQLVESGGGLVQPGGSLRLSCAASGFDLSTGYIHWVRQAPGKGLEWVARIHPATGGTRYADSVKGRFTISADTSKNTAYLQMNSLRAEDTAVYYCSYGVKTPGGGIVLTGWGQGTLVTVSSDIQMTQSPSSLSASVGDRVTITGKLSSPVPETSALGWYQQKPGKAPKLLIYNAYNRAGGVPSRFSGSRSGTDFTLTISSLQPEDFATYYQQYSGTEPIGFGQGTKVEIK', 1.3444043)]\n",
            "Struct: rfdiffusion/ab_design_0.pdb reported success in 3 seconds\n",
            "2025-04-01 12:16:10,292 | INFO : Cloud: Computation finished\n",
            "2025-04-01 12:16:10,293 | INFO : Cloud: Result Ready\n",
            "2025-04-01 12:16:10,293 | INFO : Waiting for job c2f0af11-4e42-45f0-b3fb-25e71bf7f9f5 to finish...\n",
            "2025-04-01 12:16:11,125 | INFO : Job c2f0af11-4e42-45f0-b3fb-25e71bf7f9f5 has finished.\n",
            "2025-04-01 12:16:13,025 | INFO : Saving 3 files to output/proteinmpnn...\n"
          ]
        },
        {
          "data": {
            "text/plain": [
              "[File \"/ab_design_0_dldesign_0.pdb\" with size of 96258 bytes,\n",
              " File \"/ab_design_0_dldesign_1.pdb\" with size of 96258 bytes,\n",
              " File \"/ab_design_0_dldesign_2.pdb\" with size of 96258 bytes]"
            ]
          },
          "execution_count": 20,
          "metadata": {},
          "output_type": "execute_result"
        }
      ],
      "source": [
        "# Input directory\n",
        "input_dir = \"output/rfdiffusion\"  # Using the output from RFdiffusion\n",
        "\n",
        "# Run ProteinMPNN\n",
        "app_mpnn = biolib.load('BioITWorkshop/ProteinMPNN')\n",
        "job_mpnn = app_mpnn.run(\n",
        "    pdb=input_dir,\n",
        "    num_seqs_per_struct=3\n",
        ")\n",
        "job_mpnn.save_files(\"output/proteinmpnn\")\n",
        "job_mpnn.list_output_files()"
      ]
    },
    {
      "cell_type": "markdown",
      "metadata": {
        "id": "m17IkYofhCJM"
      },
      "source": [
        "#### Wait for ProteinMPNN output files (<1 minute)\n",
        "ProteinMPNN outputs PDB files with the same structures as the input but with amino acid sequences designed for the CDR loops. By default, it provides one sequence per input structure.\n",
        "\n",
        "Output files:\n",
        "- ab_design_0_dldesign_0.pdb (antibody structure with predicted CDR residues)\n",
        "- ab_design_0_dldesign_1.pdb (antibody structure with predicted CDR residues)\n",
        "- ... etc\n",
        "\n",
        "\n",
        "Example output:\n",
        "```pdb\n",
        "ATOM      1  N   GLU H   1      23.793  -8.718 -21.757  1.00  0.00\n",
        "ATOM      2  CA  GLU H   1      23.755  -8.421 -20.330  1.00  0.00\n",
        "ATOM      3  C   GLU H   1      23.563  -6.931 -20.082  1.00  0.00\n",
        "ATOM      4  O   GLU H   1      23.856  -6.105 -20.947  1.00  0.00\n",
        "ATOM      5  N   VAL H   2      22.855  -6.630 -18.891  1.00  0.00\n",
        "ATOM      6  CA  VAL H   2      22.864  -5.216 -18.533  1.00  0.00\n",
        "```"
      ]
    },
    {
      "cell_type": "markdown",
      "metadata": {
        "id": "g3v6Po30hCJM"
      },
      "source": [
        "## Step 3 / 3: Predict structure and filter for self-consistency, with [RosettaFold2 (antibody fine-tuned)](https://biolib.com/BioITWorkshop/RF2Antibody)\n",
        "\n",
        "The final step uses an antibody-finetuned version of RoseTTAFold2 (RF2) to predict the structure of the designed sequences and assess whether RF2 is confident that the sequence will bind as designed.\n",
        "\n",
        "### [RosettaFold2 input parameters](https://biolib.com/BioITWorkshop/RF2Antibody)\n",
        "\n",
        "- **input.pdb_dir**: Directory containing the PDB files from ProteinMPNN\n",
        "- **num_recycles**: Number of recycling iterations in the model (default: 10). Higher numbers up to 10 improves accuracy but at increased computational time"
      ]
    },
    {
      "cell_type": "code",
      "execution_count": null,
      "metadata": {
        "colab": {
          "base_uri": "https://localhost:8080/"
        },
        "id": "PjZ8w1kChCJM",
        "outputId": "d4ac58d7-28af-41b3-9b14-17a46732dacc"
      },
      "outputs": [
        {
          "name": "stdout",
          "output_type": "stream",
          "text": [
            "2025-04-01 12:17:50,201 | INFO : Loaded project BioITWorkshop/RF2Antibody:1.0.3\n",
            "2025-04-01 12:17:52,723 | INFO : View the result in your browser at: https://biolib.com/results/866334fa-7fe8-4bc7-b85f-dac305adab38/\n",
            "2025-04-01 12:17:54,987 | INFO : Cloud: Initializing\n",
            "2025-04-01 12:17:54,989 | INFO : Cloud: Pulling images...\n",
            "2025-04-01 12:17:54,990 | INFO : Cloud: Computing...\n",
            "Processing all PDB files in proteinmpnn\n",
            "Running with args:  ['poetry', 'run', 'python', '/opt/rfantibody/scripts/rf2_predict.py', 'input.pdb_dir=proteinmpnn', 'output.pdb_dir=output/', 'inference.num_recycles=3']\n",
            "DGL backend not selected or invalid.  Assuming PyTorch for now.\n",
            "Setting the default backend to \"pytorch\". You can change it in the ~/.dgl/config.json file or export the DGLBACKEND environment variable.  Valid options are: pytorch, mxnet, tensorflow (all lowercase)\n",
            "Running RF2 with the following configs: {'input': {'pdb': None, 'pdb_dir': 'proteinmpnn', 'quiver': None}, 'output': {'pdb_dir': 'output/', 'quiver': None, 'output_intermediates': False}, 'inference': {'num_recycles': 3, 'hotspot_show_proportion': 0.1, 'cautious': True}, 'model': {'model_weights': '/opt/rfantibody/weights/RF2_ab.pt'}, 'model_param': {'n_extra_block': 4, 'n_main_block': 36, 'd_msa': 256, 'd_pair': 128, 'd_templ': 64, 'n_head_msa': 8, 'n_head_pair': 4, 'n_head_templ': 4, 'd_hidden': 32, 'd_hidden_templ': 32, 'd_t1d': 23, 'p_drop': 0.0, 'SE3_param_full': {'num_layers': 1, 'num_channels': 48, 'num_degrees': 2, 'l0_in_features': 32, 'l0_out_features': 32, 'l1_in_features': 2, 'l1_out_features': 2, 'num_edge_features': 32, 'div': 4, 'n_heads': 4}, 'SE3_param_topk': {'num_layers': 1, 'num_channels': 128, 'num_degrees': 2, 'l0_in_features': 64, 'l0_out_features': 64, 'l1_in_features': 2, 'l1_out_features': 2, 'num_edge_features': 64, 'div': 4, 'n_heads': 4}}}\n",
            "TM-score of target alignment: 0.998\n",
            "TM-score of framework alignment: 0.973\n",
            "TM-score of target alignment: 0.997\n",
            "TM-score of framework alignment: 0.971\n",
            "TM-score of target alignment: 0.997\n",
            "TM-score of framework alignment: 0.971\n",
            "TM-score of target alignment: 0.997\n",
            "TM-score of framework alignment: 0.972\n",
            "TM-score of target alignment: 0.997\n",
            "TM-score of framework alignment: 0.970\n",
            "TM-score of target alignment: 0.996\n",
            "TM-score of framework alignment: 0.971\n",
            "TM-score of target alignment: 0.996\n",
            "TM-score of framework alignment: 0.970\n",
            "TM-score of target alignment: 0.997\n",
            "TM-score of framework alignment: 0.971\n",
            "TM-score of target alignment: 0.996\n",
            "TM-score of framework alignment: 0.971\n",
            "TM-score of target alignment: 0.996\n",
            "TM-score of framework alignment: 0.972\n",
            "TM-score of target alignment: 0.996\n",
            "TM-score of framework alignment: 0.973\n",
            "TM-score of target alignment: 0.997\n",
            "TM-score of framework alignment: 0.973\n",
            "2025-04-01 12:19:09,755 | INFO : Cloud: Computation finished\n",
            "2025-04-01 12:19:09,756 | INFO : Cloud: Result Ready\n",
            "2025-04-01 12:19:09,757 | INFO : Waiting for job 866334fa-7fe8-4bc7-b85f-dac305adab38 to finish...\n",
            "2025-04-01 12:19:10,560 | INFO : Job 866334fa-7fe8-4bc7-b85f-dac305adab38 has finished.\n",
            "2025-04-01 12:19:12,416 | INFO : Saving 4 files to output/rosettafold2...\n"
          ]
        },
        {
          "data": {
            "text/plain": [
              "[File \"/ab_design_0_dldesign_1.pdb\" with size of 369136 bytes,\n",
              " File \"/ab_design_0_dldesign_0.pdb\" with size of 368733 bytes,\n",
              " File \"/ab_design_0_dldesign_2.pdb\" with size of 368400 bytes,\n",
              " File \"/scores.csv\" with size of 489 bytes]"
            ]
          },
          "execution_count": 22,
          "metadata": {},
          "output_type": "execute_result"
        }
      ],
      "source": [
        "# Input directory\n",
        "input_dir = \"output/proteinmpnn\"  # Using the output from ProteinMPNN\n",
        "\n",
        "# Run RosettaFold2\n",
        "app_rf2 = biolib.load('BioITWorkshop/RF2Antibody')  # Replace with actual app ID\n",
        "job_rf2 = app_rf2.run(\n",
        "    pdb=input_dir,\n",
        "    num_recycles=3,\n",
        ")\n",
        "job_rf2.save_files(\"output/rosettafold2\")\n",
        "job_rf2.list_output_files()"
      ]
    },
    {
      "cell_type": "markdown",
      "metadata": {
        "id": "cL4SetBkhCJM"
      },
      "source": [
        "#### Wait for RosettaFold2 output files (1-2 minutes)\n",
        "RosettaFold2 predicts the structure of the designed antibodies and provides confidence metrics. We can use these to filter for promising designs.\n",
        "\n",
        "Output files:\n",
        "- scores.csv - Predicted structural quality scores for filtering of designs\n",
        "- ab_design_0_dldesign_1.pdb - Predicted structure of design 0\n",
        "- ab_design_0_dldesign_2.pdb - Predicted structure of design 1\n",
        "- ... etc\n",
        "\n",
        "Example output scores.tsv:\n",
        "```csv\n",
        "interaction_pae,pae,    pred_lddt,  target_aligned_antibody_rmsd, ..., framework_aligned_cdr_rmsd, ...\n",
        "8.07,           8.77,   0.9,        11.53,                        ..., 2.18,                       ...\n",
        "7.52,           8.19,   0.89,       18.97,                        ..., 2.4,                        ...\n",
        "8.47,           9.15,   0.9,        10.8,                        ...,  2.35,                       ...\n",
        "\n",
        "```\n",
        "\n",
        "The RFantibody protocol recommends filtering on the following metrics, shown to lead to an up to 10X improvement in experimental success rates.\n",
        "- RF2 predicted alignment error (pAE) < 10 (pae column)\n",
        "- RMSD between design and RF2 prediction < 2.00 Å for the CDRs (framework_aligned_cdr_rmsd column)"
      ]
    },
    {
      "cell_type": "markdown",
      "metadata": {
        "id": "Q0MoVtazZEX7"
      },
      "source": [
        "---"
      ]
    },
    {
      "cell_type": "markdown",
      "metadata": {
        "id": "-ohAYF6qhCJM"
      },
      "source": [
        "## Conclusion\n",
        "\n",
        "This notebook has demonstrated the complete RFantibody pipeline for structure-based design of de novo antibodies. The workflow consists of three main steps:\n",
        "\n",
        "1. **RFdiffusion (antibody fine-tuned)**: Generating antibody-target docking poses with designed CDR loop structures\n",
        "2. **ProteinMPNN**: Designing amino acid sequences for the CDR loops\n",
        "3. **RosettaFold2 (antibody fine-tuned)**: Filtering designs based on predicted structure quality\n",
        "\n",
        "Adjusting the following parameters:\n",
        "- i) Antibody framework\n",
        "- ii) Target PDB\n",
        "- iii) Epitope residues\n",
        "- iv) No. 3D backbone designs (RFDiffusion)\n",
        "- v) CDR loop lengths (RFDiffusion)\n",
        "- vi) No. designed sequences (ProteinMPNN)\n",
        "\n",
        "This computational pipeline can generate designs with a success rate of approximately 2% for some degree of binding to the target. Further experimental validation and optimization is likely to be required to improve binding affinity and other pharmaceutical properties.\n",
        "\n",
        "For larger scale antibody design campaigns, we recommended to generating thousands of designs to increase the chances of finding high-quality binders, as the current filtering metrics are still highly limited."
      ]
    },
    {
      "cell_type": "markdown",
      "metadata": {
        "id": "7a_cG3K2ZEX7"
      },
      "source": [
        "---"
      ]
    },
    {
      "cell_type": "markdown",
      "metadata": {
        "id": "3ESnZr39rdTR"
      },
      "source": [
        "## Bring your own target\n",
        "\n",
        "(Before processing, remember to rename your output folder to e.g. output2, or you'll be re-running old results!)"
      ]
    },
    {
      "cell_type": "code",
      "execution_count": null,
      "metadata": {
        "id": "OLUGKpClZEX7"
      },
      "outputs": [],
      "source": [
        "!mv output/ output_old"
      ]
    },
    {
      "cell_type": "markdown",
      "metadata": {
        "id": "dnjaiYCvZEX7"
      },
      "source": [
        "In order to provide your own target PDB, you'll need to convert it into an HLT format first ([described here](https://github.com/RosettaCommons/RFantibody/blob/main/README.md#hlt-file-format) ).\n",
        "\n",
        "- i) Upload your target PDB file to the TargetPDBtoHLT app on BioLib: https://biolib.com/BioITWorkshop/TargetPDBtoHLT/\n",
        "- ii) Upload the processed PDB to Google colab\n",
        "- iii) Change the target_pdb parameter in Step 1 on top of the notebook\n",
        "- iv) Select the target epitope residues\n",
        "\n"
      ]
    },
    {
      "cell_type": "markdown",
      "metadata": {
        "id": "hUXXUyaQut1W"
      },
      "source": [
        "<img src=\"https://github.com/mhoie/workshop/blob/main/img/rfantibody.png?raw=1\" style=\"width:60%;\">\n",
        "\n",
        "\n",
        "For practical tips on antibody design, we refer to Baker Lab's RFAntibody README's [practical considerations for Antibody Design ](https://github.com/RosettaCommons/RFantibody/blob/main/README.md#practical-considerations-for-antibody-design)."
      ]
    },
    {
      "cell_type": "code",
      "execution_count": null,
      "metadata": {
        "id": "2Sm60J9JZEX7"
      },
      "outputs": [],
      "source": []
    },
    {
      "cell_type": "markdown",
      "metadata": {
        "id": "JxdlmboHZEX7"
      },
      "source": [
        "### Example new target workflow\n",
        "\n",
        "0. Remove anything currently in the output/ folder on Google Colab (or rename this folder to output2)\n",
        "\n",
        "1. Choose a target from RCSB, e.g. the X-ray structure of 1M47 Human interleukin-2: https://www.rcsb.org/structure/1M47\n",
        "\n",
        "<img src=\"https://github.com/mhoie/workshop/blob/main/img/rcsb_IL.png?raw=1\" style=\"width:40%;\">\n",
        "\n",
        "2. Predict likely epitope residues with a tool like DiscoTope-3.0: https://biolib.com/DTU/DiscoTope-3\n",
        "\n",
        "<img src=\"https://github.com/mhoie/workshop/blob/main/img/discotope3.png?raw=1\" style=\"width:40%;\">\n",
        "\n",
        "3. Process the PDB file with the TargetPDBtoHLT app: https://biolib.com/BioITWorkshop/TargetPDBtoHLT/\n",
        "\n",
        "4. Upload the processed PDB to Google Colab, and change the target_pdb variable to e.g. '1m47_T.pdb' (in Step 1)\n",
        "\n",
        "<img src=\"https://github.com/mhoie/workshop/blob/main/img/change_params.png?raw=1\" style=\"width:30%;\">\n",
        "\n",
        "5. Change the epitope_residues variable to e.g. '[T41, T111]' based on predicted epitopes\n",
        "\n",
        "6. Run through the workflow as normal.\n",
        "\n",
        "For this target, the known antibody-antigen dock is available at SAbDab for comparison:\n",
        "https://opig.stats.ox.ac.uk/webapps/sabdab-sabpred/sabdab/structureviewer/?pdb=8sow\n"
      ]
    },
    {
      "cell_type": "markdown",
      "metadata": {
        "id": "KkC9ZvA1ZEX7"
      },
      "source": []
    }
  ],
  "metadata": {
    "colab": {
      "provenance": []
    },
    "kernelspec": {
      "display_name": "base",
      "language": "python",
      "name": "python3"
    },
    "language_info": {
      "codemirror_mode": {
        "name": "ipython",
        "version": 3
      },
      "file_extension": ".py",
      "mimetype": "text/x-python",
      "name": "python",
      "nbconvert_exporter": "python",
      "pygments_lexer": "ipython3",
      "version": "3.12.4"
    }
  },
  "nbformat": 4,
  "nbformat_minor": 0
}