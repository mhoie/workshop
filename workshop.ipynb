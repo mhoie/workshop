{
  "cells": [
    {
      "cell_type": "markdown",
      "metadata": {
        "id": "wwgkXbL2hCJK"
      },
      "source": [
        "## De novo generation of antibody binders with RFantibody\n",
        "[![colab.ipynb](https://img.shields.io/badge/github-%23121011.svg?logo=github)](https://github.com/mhoie/workshop/blob/main/workshop.ipynb)\n",
        "[![Open In Colab](https://colab.research.google.com/assets/colab-badge.svg)](https://colab.research.google.com/github/mhoie/workshop/blob/main/workshop.ipynb)"
      ]
    },
    {
      "cell_type": "markdown",
      "metadata": {
        "id": "GXkbBhvihCJK"
      },
      "source": [
        "In this notebook, you may choose your own antibody framework and target protein structure, and design novel antibody binders. This workflow by the [Baker Lab](https://www.bakerlab.org/2025/02/28/designing-antibodies-with-rfdiffusion/) has been shown to generate weak antibody binders in the μM to nM range, with ~2% experimental success rates for some degree of binding after in-silico filtering."
      ]
    },
    {
      "cell_type": "markdown",
      "metadata": {
        "id": "DbiPeDZ2hCJK"
      },
      "source": [
        "\n",
        "---\n"
      ]
    },
    {
      "cell_type": "markdown",
      "metadata": {
        "id": "JDKXwkQWhCJK"
      },
      "source": [
        "Antibody therapeutics represent a substantial market (approximately $550M USD) with tremendous potential for treating various diseases. Traditional approaches to antibody discovery are slow and laborious, typically involving immunizing mice or screening random libraries.\n",
        "\n",
        "This notebook implements the [RFAntibody pipeline](https://github.com/RosettaCommons/RFantibody/tree/main) (described in this [pre-print](https://www.biorxiv.org/content/10.1101/2024.03.14.585103v2) ) for structure-based design of de novo antibodies against a chosen target.\n",
        "\n",
        "**Inputs:**\n",
        "- i) An input antibody framework (e.g. hu-4D5-8_Fv.pdb - a humanized ScFv antibody framework PDB\n",
        "- ii) A target protein of interest (e.g. respiratory syncytial virus (RSV) protein)\n",
        "- iii) Binding site on the target protein (epitope residues)\n",
        "\n",
        "**Workflow:**\n",
        "1. **RFDiffusion** generation of a bound antibody-antigen complex (backbone only) - using an antibody-finetuned version of RFdiffusion ([Nature paper](https://www.nature.com/articles/s41586-023-06415-8))\n",
        "2. **ProteinMPNN** generation of designed CDR sequences, the complementarity determining loops involved in antibody binding ([Science paper](https://www.science.org/doi/10.1126/science.add2187))\n",
        "3. **RosettaFold2** structure-prediction of designed sequences, to filter out low confidence structures - using an antibody-finetuned version of RoseTTAFold2 ([Preprint](https://www.biorxiv.org/content/10.1101/2023.05.24.542179v1)).\n",
        "\n",
        "The last step has been shown to dramatically improve experimental success rates, by a factor of 10-20X.\n",
        "\n",
        "**Output:**\n",
        "- De novo designed antibody sequences, predicted to bind the target protein"
      ]
    },
    {
      "cell_type": "markdown",
      "metadata": {},
      "source": [
        "<img src=\"img/whiteboard4.jpg\" style=\"width:60%;\">"
      ]
    },
    {
      "cell_type": "markdown",
      "metadata": {},
      "source": [
        "\n",
        "---\n"
      ]
    },
    {
      "cell_type": "markdown",
      "metadata": {},
      "source": [
        "**Advantages:**\n",
        "- Designs novel antibodies binding a target protein\n",
        "- Can target most epitope binding region of interest (preferring structured regions)\n",
        "- Focuses on designing antibody CDR loops (main residues determining binding)\n",
        "- Designs may be filtered by \"self-cosistency\" of predicted structures, correlating with experimental success rates\n",
        "\n",
        "**Current limitations:**\n",
        "- Generated antibodies at best tend to be weak binders (low binding affinities in μM to nM range)\n",
        "- Often low experimental success rates (~2% for some degree of binding) - heavily dependent on filtering\n",
        "- No screening for e.g. human immunogenicity"
      ]
    },
    {
      "cell_type": "markdown",
      "metadata": {},
      "source": [
        "**Read more:**\n",
        "- To read more about this workflow, please refer to the RFAntibody Github page: https://github.com/RosettaCommons/RFantibody/blob/main/README.md\n",
        "- And the Biorxiv pre-print by Bennett et al 2024: https://www.biorxiv.org/content/10.1101/2024.03.14.585103v2"
      ]
    },
    {
      "cell_type": "code",
      "execution_count": null,
      "metadata": {},
      "outputs": [],
      "source": []
    },
    {
      "cell_type": "markdown",
      "metadata": {
        "id": "yd-TURr3hCJL"
      },
      "source": [
        "## Pre-requisites for this workshop\n",
        "\n",
        "The only pre-requisites for this workshop are the following:\n",
        "- i) Register a BioLib account on [https://biolib.com/sign-up](https://biolib.com/sign-up), for running RFantibody jobs (requires a GPU) in the cloud.\n",
        "- ii) An antibody PDB and target protein structure PDB. Examples are provided below, but you may also provide your own following the instructions below."
      ]
    },
    {
      "cell_type": "markdown",
      "metadata": {
        "id": "GuvA6ZychCJL"
      },
      "source": [
        "#### i) Install pybiolib and login to biolib.com"
      ]
    },
    {
      "cell_type": "code",
      "execution_count": 1,
      "metadata": {
        "colab": {
          "base_uri": "https://localhost:8080/"
        },
        "id": "NyBRznjZhCJL",
        "outputId": "e6d91fe4-7e27-424c-c00b-b0510caced8b"
      },
      "outputs": [],
      "source": [
        "# Download BioLib\n",
        "!pip install --quiet --upgrade pybiolib"
      ]
    },
    {
      "cell_type": "code",
      "execution_count": 2,
      "metadata": {
        "colab": {
          "base_uri": "https://localhost:8080/",
          "height": 69
        },
        "id": "hpZtb9ewhCJL",
        "outputId": "20567a35-45ee-4ea1-e150-ab536ca9fa8d"
      },
      "outputs": [
        {
          "name": "stdout",
          "output_type": "stream",
          "text": [
            "2025-03-31 11:26:18,087 | INFO : Already signed in\n"
          ]
        }
      ],
      "source": [
        "# Login with BioLib\n",
        "import biolib\n",
        "biolib.login()"
      ]
    },
    {
      "cell_type": "markdown",
      "metadata": {
        "id": "ejdjtQRQhCJL"
      },
      "source": [
        "#### ii) Set input antibody and target PDB\n",
        "We're working with two primary input files for RFAntibody:\n",
        "\n",
        "1. **framework_pdb**: `hu-4D5-8_Fv.pdb` - A humanized ScFv antibody Framework\n",
        "2. **target_pdb**: `rsv_site3.pdb` - The target protein (RSV site 3) of interest\n",
        "3. List of hotspot residues defining our epitope (target binding site)\n",
        "\n",
        "Let's verify that these files exists."
      ]
    },
    {
      "cell_type": "code",
      "execution_count": 14,
      "metadata": {
        "id": "geQVU_mXhCJL"
      },
      "outputs": [],
      "source": [
        "# Download input files if not already present\n",
        "!wget --no-verbose -nc \"https://raw.githubusercontent.com/mhoie/workshop/refs/heads/main/hu-4D5-8_Fv.pdb\"\n",
        "!wget --no-verbose -nc \"https://raw.githubusercontent.com/mhoie/workshop/refs/heads/main/rsv_site3.pdb\""
      ]
    },
    {
      "cell_type": "markdown",
      "metadata": {
        "id": "VIFocUkhhCJL"
      },
      "source": [
        "#### iii) Bring your own target (optional)\n",
        "You may also choose your own antibody framework and target PDB. Please see the bottom of this notebook, and the RFAntibody guide linked below:\n",
        "https://github.com/RosettaCommons/RFantibody?tab=readme-ov-file#input-preparation\n",
        "\n"
      ]
    },
    {
      "cell_type": "code",
      "execution_count": null,
      "metadata": {},
      "outputs": [],
      "source": []
    },
    {
      "cell_type": "markdown",
      "metadata": {
        "id": "d9kqKMCkhCJL"
      },
      "source": [
        "## Step 1 of 4: Generate antibody-antigen docking pose, with [RFDiffusion (antibody-finetuned)](https://biolib.com/BioITWorkshop/RFDiffusionAntibody)\n",
        "*Estimated time: ~2-3 minutes*\n",
        "\n",
        "This step takes the input antibody framework and target protein, and designs the 3D structure of new CDR loops in interaction with the target protein (antibody-antigen docking pose). The CDR loops will be generated as backbones only (no residues), with the actual residues to be determined in the next step."
      ]
    },
    {
      "cell_type": "markdown",
      "metadata": {
        "id": "GhuETazlhCJL"
      },
      "source": [
        "#### [RFDiffusion input parameters](https://biolib.com/BioITWorkshop/RFDiffusionAntibody)\n",
        "\n",
        "Already set above:\n",
        "- **framework_pdb**: Path to the antibody framework we're using (e.g. hu-4D5-8_Fv.pdb)\n",
        "- **target_pdb**: Path to the target protein structure (e.g. rsv_site3.pdb)\n",
        "- **hotspot_res**: List of hotspot residues defining our epitope (target binding site)\n",
        "\n",
        "New parameters:\n",
        "- **design_loops**: Dictionary mapping each CDR loop to a range of allowed loop lengths\n",
        "  - L1, L2, L3: Light chain CDR loops\n",
        "  - H1, H2, H3: Heavy chain CDR loops\n",
        "  - Numbers specify length ranges (e.g., L1:8-13 means loop L1 can be 8-13 residues long)\n",
        "  - Example: `[L1:8-13,L2:7,L3:9-11,H1:7,H2:6,H3:5-13]`\n",
        "- **num_designs**: Number of designs to generate (20)\n"
      ]
    },
    {
      "cell_type": "code",
      "execution_count": null,
      "metadata": {
        "id": "BKVVCyQNsiZt"
      },
      "outputs": [],
      "source": [
        "# RFDiffusion input\n",
        "framework_pdb = \"hu-4D5-8_Fv.pdb\"\n",
        "target_pdb = \"rsv_site3.pdb\"\n",
        "hotspot_res = \"[T305,T456]\"'\n",
        "\n",
        "# RFDiffusion parameters\n",
        "design_loops = \"[L1:8-13,L2:7,L3:9-11,H1:7,H2:6,H3:5-13]\"\n",
        "num_designs = 1\n",
        "\n",
        "# Check that everything present\n",
        "import os\n",
        "print(f\"Framework PDB exists: {os.path.exists(framework_pdb)}\")\n",
        "print(f\"Target PDB exists: {os.path.exists(target_pdb)}\")\n",
        "print(f\"(If these are missing, please download from https://github.com/mhoie/bioit-rfantibody before proceeding)\")"
      ]
    },
    {
      "cell_type": "code",
      "execution_count": 16,
      "metadata": {
        "colab": {
          "base_uri": "https://localhost:8080/"
        },
        "id": "s6CU5W0OhCJL",
        "outputId": "236dadd4-5ad4-4698-c448-d93922984c16"
      },
      "outputs": [
        {
          "name": "stderr",
          "output_type": "stream",
          "text": [
            "INFO:biolib:Loaded project BioITWorkshop/RFDiffusionAntibody:0.0.2\n",
            "INFO:biolib:View the result in your browser at: https://biolib.com/results/5fb1dfeb-fc93-490e-a5f2-7cd5f683e950/\n"
          ]
        }
      ],
      "source": [
        "\n",
        "# Run RFdiffusion through BioLib\n",
        "app_rfdiff = biolib.load('BioITWorkshop/RFDiffusionAntibody')  # Replace with actual RFantibody app ID\n",
        "job_rfdiff = app_rfdiff.run(\n",
        "    target_pdb=target_pdb,\n",
        "    framework_pdb=framework_pdb,\n",
        "    hotspot_res=hotspot_res,\n",
        "    design_loops=design_loops,\n",
        "    num_designs=num_designs,\n",
        ")\n",
        "job_rfdiff.save_files(\"output/rfdiffusion\", skip_file_if_exists=True)\n",
        "job_rfdiff.list_output_files()"
      ]
    },
    {
      "cell_type": "markdown",
      "metadata": {
        "id": "-Jl7-hS5hCJL"
      },
      "source": [
        "#### Wait for RFdiffusion output files (~2-3 minutes)\n",
        "The RFdiffusion step generates PDB files containing the antibody framework with designed CDR loops docked to the target protein. At this stage, the CDR loops have backbone structures but no amino acid sequences yet!\n",
        "\n",
        "Main output file:\n",
        "- output/rfdiffusion/_0.pdb - Antibody PDB backbone (N, Ca, C, O atoms only), lacking the CDR loop residues (which will be predicted in the next step)\n",
        "\n",
        "Example output format:\n",
        "```pdb\n",
        "ATOM      1  N   GLU H   1      23.793  -8.718 -21.757  1.00  1.00\n",
        "\n",
        "ATOM      2  CA  GLU H   1      23.755  -8.421 -20.330  1.00  1.00\n",
        "\n",
        "ATOM      3  C   GLU H   1      23.563  -6.931 -20.082  1.00  1.00\n",
        "\n",
        "ATOM      4  O   GLU H   1      23.856  -6.105 -20.947  1.00  1.00\n",
        "\n",
        "ATOM      5  N   VAL H   2      22.855  -6.630 -18.891  1.00  1.00\n",
        "```"
      ]
    },
    {
      "cell_type": "markdown",
      "metadata": {
        "id": "RSxrIpV9hCJM"
      },
      "source": [
        "## Step 2 of 4: Design binding CDR loop residues with [ProteinMPNN](https://biolib.com/BioITWorkshop/ProteinMPNNAb)\n",
        "*Estimated time: <1 minute*\n",
        "\n",
        "The second step takes the docks generated by RFdiffusion and assigns amino acid sequences to the CDR loops using ProteinMPNN. We use the base version of ProteinMPNN (not an antibody-finetuned model) with a wrapper script that focuses on designing just the CDR loops.\n",
        "\n",
        "#### [ProteinMPNN input parameters](https://biolib.com/BioITWorkshop/ProteinMPNNAb)\n",
        "- **pdb**: Directory containing the previous RFdiffusion output PDB files, or a single PDB file\n",
        "- **num_seqs_per_struct**: Number of sequences to design per input structure PDB file"
      ]
    },
    {
      "cell_type": "code",
      "execution_count": 17,
      "metadata": {
        "colab": {
          "base_uri": "https://localhost:8080/"
        },
        "id": "AfmUon9ThCJM",
        "outputId": "0aba660b-c8f0-41af-9628-5b2e293d6d63"
      },
      "outputs": [
        {
          "name": "stderr",
          "output_type": "stream",
          "text": [
            "INFO:biolib:Loaded project BioITWorkshop/ProteinMPNNAb:0.0.3\n",
            "INFO:biolib:View the result in your browser at: https://biolib.com/results/7870dc6f-0e88-4c28-a602-cfcf9990791f/\n"
          ]
        }
      ],
      "source": [
        "# Input directory\n",
        "input_dir = \"output/rfdiffusion\"  # Using the output from RFdiffusion\n",
        "\n",
        "# Run ProteinMPNN\n",
        "app_mpnn = biolib.load('BioITWorkshop/ProteinMPNNAb')\n",
        "job_mpnn = app_mpnn.run(\n",
        "    pdb=input_dir,\n",
        "    num_seqs_per_struct=3\n",
        ")\n",
        "job_mpnn.save_files(\"output/proteinmpnn\", skip_file_if_exists=True)\n",
        "job_mpnn.list_output_files()"
      ]
    },
    {
      "cell_type": "markdown",
      "metadata": {
        "id": "m17IkYofhCJM"
      },
      "source": [
        "#### Wait for ProteinMPNN output files (<1 minute)\n",
        "ProteinMPNN outputs PDB files with the same structures as the input but with amino acid sequences designed for the CDR loops. By default, it provides one sequence per input structure.\n",
        "\n",
        "Output files:\n",
        "- _0_dldesign_0.pdb (antibody structure with predicted CDR residues)\n",
        "- _0_dldesign_1.pdb (antibody structure with predicted CDR residues)\n",
        "- ... etc\n",
        "\n",
        "\n",
        "Example output:\n",
        "```pdb\n",
        "ATOM      1  N   GLU H   1      23.793  -8.718 -21.757  1.00  0.00\n",
        "ATOM      2  CA  GLU H   1      23.755  -8.421 -20.330  1.00  0.00\n",
        "ATOM      3  C   GLU H   1      23.563  -6.931 -20.082  1.00  0.00\n",
        "ATOM      4  O   GLU H   1      23.856  -6.105 -20.947  1.00  0.00\n",
        "ATOM      5  N   VAL H   2      22.855  -6.630 -18.891  1.00  0.00\n",
        "ATOM      6  CA  VAL H   2      22.864  -5.216 -18.533  1.00  0.00\n",
        "```"
      ]
    },
    {
      "cell_type": "markdown",
      "metadata": {
        "id": "g3v6Po30hCJM"
      },
      "source": [
        "## Step 3 / 4: Filter designs for predicted structure self-consistency, with [RosettaFold2 antibody fine-tuned](https://biolib.com/BioITWorkshop/RF2Antibody)\n",
        "*Estimated time: ~1-2 minutes*\n",
        "\n",
        "The final step uses an antibody-finetuned version of RoseTTAFold2 (RF2) to predict the structure of the designed sequences and assess whether RF2 is confident that the sequence will bind as designed.\n",
        "\n",
        "The RFantibody protocol recommends filtering on the following metrics, shown to lead to an up to 10X improvement in experimental success rates.\n",
        "- RF2 predicted alignment error (pAE) < 10\n",
        "- RMSD between design and RF2 prediction < 2Å for the CDRs\n",
        "\n",
        "### [RosettaFold2 input parameters](https://biolib.com/BioITWorkshop/RF2Antibody)\n",
        "\n",
        "- **input.pdb_dir**: Directory containing the PDB files from ProteinMPNN\n",
        "- **num_recycles**: Number of recycling iterations in the model (default: 10). Higher numbers up to 10 improves accuracy but at increased computational time"
      ]
    },
    {
      "cell_type": "code",
      "execution_count": 20,
      "metadata": {
        "colab": {
          "base_uri": "https://localhost:8080/"
        },
        "id": "PjZ8w1kChCJM",
        "outputId": "0efaafbe-8653-4e85-bf6c-51cdae2f2700"
      },
      "outputs": [
        {
          "name": "stderr",
          "output_type": "stream",
          "text": [
            "INFO:biolib:Loaded project BioITWorkshop/RF2Antibody:0.0.3\n",
            "INFO:biolib:View the result in your browser at: https://biolib.com/results/a4de66df-5bdd-4ff5-b7e5-3680ece86287/\n"
          ]
        }
      ],
      "source": [
        "# Input directory\n",
        "input_dir = \"output/proteinmpnn\"  # Using the output from ProteinMPNN\n",
        "\n",
        "# Run RosettaFold2\n",
        "app_rf2 = biolib.load('BioITWorkshop/RF2Antibody')  # Replace with actual app ID\n",
        "job_rf2 = app_rf2.run(\n",
        "    pdb=input_dir,\n",
        "    num_recycles=3,\n",
        ")\n",
        "job_rf2.save_files(\"output/rosettafold2\", skip_file_if_exists=True)\n",
        "job_rf2.list_output_files()"
      ]
    },
    {
      "cell_type": "markdown",
      "metadata": {
        "id": "cL4SetBkhCJM"
      },
      "source": [
        "#### Wait for RosettaFold2 output files (1-2 minutes)\n",
        "RosettaFold2 predicts the structure of the designed antibodies and provides confidence metrics. We can use these to filter for promising designs.\n",
        "\n",
        "Output files:\n",
        "- scores.csv - Predicted structural quality scores for filtering of designs\n",
        "- _0_dldesign_0.pdb - Predicted structure of design 0\n",
        "- _0_dldesign_1.pdb - Predicted structure of design 1\n",
        "- ... etc\n",
        "\n",
        "Example output scores.tsv:\n",
        "```csv\n",
        "interaction_pae,pae,    pred_lddt,  target_aligned_antibody_rmsd, ..., framework_aligned_cdr_rmsd, ...\n",
        "8.07,           8.77,   0.9,        11.53,                        ..., 2.18,                       ...\n",
        "7.52,           8.19,   0.89,       18.97,                        ..., 2.4,                        ...\n",
        "8.47,           9.15,   0.9,        10.8,                        ...,  2.35,                       ...\n",
        "\n",
        "```\n",
        "\n",
        "Of these, our target values are:\n",
        "- Predicted alignment error (pae) below 10\n",
        "- Framework aligned CDR rmsd (framework_aligned_cdr_rmsd) below 2.00"
      ]
    },
    {
      "cell_type": "markdown",
      "metadata": {
        "id": "-ohAYF6qhCJM"
      },
      "source": [
        "## Conclusion\n",
        "\n",
        "This notebook has demonstrated the complete RFantibody pipeline for structure-based design of de novo antibodies. The workflow consists of three main steps:\n",
        "\n",
        "1. **RFdiffusion (antibody fine-tuned)**: Generating antibody-target docking poses with designed CDR loop structures\n",
        "2. **ProteinMPNN (antibody fine-tuned)**: Designing amino acid sequences for the CDR loops\n",
        "3. **RosettaFold2 (antibody fine-tuned)**: Filtering designs based on predicted structure quality\n",
        "4. **AntibodyProfiler**: Further selection of designs based on similarity to therapeutically approved antibodies\n",
        "\n",
        "This computational pipeline can generate designs with a success rate of approximately 2% for some degree of binding to the target. Further experimental validation and optimization is likely to be required to improve binding affinity and other pharmaceutical properties.\n",
        "\n",
        "For larger scale antibody design campaigns, we recommended to generating thousands of designs to increase the chances of finding high-quality binders, as the current filtering metrics are still highly limited."
      ]
    },
    {
      "cell_type": "markdown",
      "metadata": {
        "id": "3ESnZr39rdTR"
      },
      "source": [
        "### Bring your own antibody target\n",
        "\n",
        "In order to provide your own target PDB, you'll need to convert it into an HLT format first ([described here](https://github.com/RosettaCommons/RFantibody/blob/main/README.md#hlt-file-format) ).\n",
        "\n",
        "\n",
        "- i) Upload yyour target PDB file to the TargetPDBtoHLT app on BioLib: https://biolib.com/BioITWorkshop/TargetPDBtoHLT/\n",
        "- ii) Download the new HLT-formatted PDB file\n",
        "- iii) Change the target_pdb parameter in Step 1 on top of the notebook\n",
        "- iv) Select the target epitope residues\n",
        "\n",
        "\n"
      ]
    },
    {
      "cell_type": "markdown",
      "metadata": {},
      "source": [
        "<img src=\"img/rfantibody.png\" style=\"width:60%;\">"
      ]
    },
    {
      "cell_type": "markdown",
      "metadata": {},
      "source": [
        "\n",
        "For practical tips on antibody design, we refer to Baker Lab's RFAntibody README's [practical considerations for Antibody Design ](https://github.com/RosettaCommons/RFantibody/blob/main/README.md#practical-considerations-for-antibody-design)."
      ]
    }
  ],
  "metadata": {
    "colab": {
      "provenance": []
    },
    "kernelspec": {
      "display_name": "base",
      "language": "python",
      "name": "python3"
    },
    "language_info": {
      "codemirror_mode": {
        "name": "ipython",
        "version": 3
      },
      "file_extension": ".py",
      "mimetype": "text/x-python",
      "name": "python",
      "nbconvert_exporter": "python",
      "pygments_lexer": "ipython3",
      "version": "3.12.4"
    }
  },
  "nbformat": 4,
  "nbformat_minor": 0
}
