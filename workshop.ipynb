{
 "cells": [
  {
   "cell_type": "markdown",
   "metadata": {},
   "source": [
    "Todo:\n",
    "- Add all prediction apps, update URLs below\n",
    "- Ensure prediction apps have clear visualizations\n",
    "- Double check input/output files and example output format are correct!\n",
    "- AntibodyProfiler: Accept HLT format PDB files, antigen chain\n",
    "- Stress-test servers, spin up capacity before workshop\n",
    "\n",
    "Nice to have:\n",
    "- Add previously computed examples to visualize on BioLib.com\n",
    "- New BioLib app: chotia_to_hlt for choosing own target and antibody framework\n",
    "- Antibody liability app\n",
    "- Leaderboard\n",
    "- \"Master\" BioLib app implementing all functionality in one app (easier to parallelize)"
   ]
  },
  {
   "cell_type": "markdown",
   "metadata": {},
   "source": [
    "## De novo generation of antibody binders with RFantibody\n",
    "[![colab.ipynb](https://img.shields.io/badge/github-%23121011.svg?logo=github)](https://github.com/mhoie/workshop/blob/main/workshop.ipynb)\n",
    "[![Open In Colab](https://colab.research.google.com/assets/colab-badge.svg)](https://colab.research.google.com/github/mhoie/workshop/blob/main/workshop.ipynb)"
   ]
  },
  {
   "cell_type": "markdown",
   "metadata": {},
   "source": [
    "In this notebook, you may choose your own antibody framework and target protein structure, and design novel antibody binders. This workflow has been shown to generate weak antibody binders in the μM to nM range, with up to ~5-10% experimental success rates for some degree of binding.\n",
    "\n",
    "---\n",
    "\n",
    "Antibody therapeutics represent a substantial market (approximately $550M USD) with tremendous potential for treating various diseases. Traditional approaches to antibody discovery are slow and laborious, typically involving immunizing mice or screening random libraries. \n",
    "\n",
    "This notebook implements the RFantibody pipeline for structure-based design of de novo antibodies against a chosen target.\n",
    "\n",
    "It takes two inputs:\n",
    "- i) An input antibody framework (e.g. hu-4D5-8_Fv.pdb - a humanized single-domain antibody already approved in two FDA therapies)\n",
    "- ii) A target protein of interest (e.g. respiratory syncytial virus (RSV) protein) with binding site (epitope residues)\n",
    "\n",
    "And runs the following three methods:\n",
    "1. **De novo design of an antibody backbone targeting a protein of interest** - using an antibody-finetuned version of RFdiffusion ([Nature paper](https://www.nature.com/articles/s41586-023-06415-8))\n",
    "2. **Design of the CDR loop residues** - using ProteinMPNN ([Science paper](https://www.science.org/doi/10.1126/science.add2187))\n",
    "3. **Filtering designs on predicted structure 'self-consistency'** - using an antibody-finetuned version of RoseTTAFold2 ([Preprint](https://www.biorxiv.org/content/10.1101/2023.05.24.542179v1)), shown to correlate with significantly improved experimental success rates.\n",
    "\n",
    "The RFantibody pipeline itself is described in detail in [this preprint](https://www.biorxiv.org/content/10.1101/2024.03.14.585103v2).\n",
    "\n",
    "Advantages:\n",
    "- Designs novel antibodies binding a target protein\n",
    "- Can target most epitope binding region of interest (preferring structured regions)\n",
    "- Focuses on designing antibody CDR loops (main residues determining binding)\n",
    "- Designs may be filtered by \"self-cosistency\" of predicted structures, correlating with experimental success rates\n",
    "\n",
    "Current limitations:\n",
    "- Generated antibodies at best tend to be weak binders (low binding affinities in μM to nM range)\n",
    "- Often low experimental success rates (~5-10% for some degree of binding) - heavily dependent on filtering\n",
    "- No screening for e.g. human immunogenicity"
   ]
  },
  {
   "cell_type": "markdown",
   "metadata": {},
   "source": [
    "## Pre-requisites for this workshop\n",
    "\n",
    "The only pre-requisites for this workshop are the following:\n",
    "- i) Register a BioLib account on [https://biolib.com/sign-up](https://biolib.com/sign-up), for running RFantibody jobs (requires a GPU) in the cloud.\n",
    "- ii) An antibody PDB and target protein structure PDB. Examples are provided below, but you may also provide your own following the instructions below."
   ]
  },
  {
   "cell_type": "markdown",
   "metadata": {},
   "source": [
    "#### i) Install pybiolib and login to biolib.com"
   ]
  },
  {
   "cell_type": "code",
   "execution_count": 1,
   "metadata": {},
   "outputs": [],
   "source": [
    "# Download BioLib\n",
    "!pip install --quiet --upgrade pybiolib"
   ]
  },
  {
   "cell_type": "code",
   "execution_count": 2,
   "metadata": {},
   "outputs": [
    {
     "name": "stdout",
     "output_type": "stream",
     "text": [
      "2025-03-25 17:16:49,864 | INFO : Already signed in\n"
     ]
    }
   ],
   "source": [
    "# Login with BioLib\n",
    "import biolib\n",
    "biolib.login()"
   ]
  },
  {
   "cell_type": "markdown",
   "metadata": {},
   "source": [
    "#### ii) Set input antibody and target PDB\n",
    "We're working with two primary input files for RFAntibody:\n",
    "\n",
    "1. **framework_pdb**: `hu-4D5-8_Fv.pdb` - A humanized single domain antibody (VHH) framework\n",
    "2. **target_pdb**: `rsv_site3.pdb` - The target protein (RSV site 3) of interest\n",
    "3. List of hotspot residues defining our epitope (target binding site)\n",
    "\n",
    "You may also choose your own antibody framework and target PDB, prepared with this script:\n",
    "https://github.com/RosettaCommons/RFantibody?tab=readme-ov-file#input-preparation\n",
    "\n",
    "Let's verify that these files exists."
   ]
  },
  {
   "cell_type": "code",
   "execution_count": 3,
   "metadata": {},
   "outputs": [],
   "source": [
    "# Download input files if not already present\n",
    "!wget --no-verbose -nc \"https://raw.githubusercontent.com/mhoie/workshop/refs/heads/main/example_input/hu-4D5-8_Fv.pdb\"\n",
    "!wget --no-verbose -nc \"https://raw.githubusercontent.com/mhoie/workshop/refs/heads/main/example_input/rsv_site3.pdb\""
   ]
  },
  {
   "cell_type": "code",
   "execution_count": 4,
   "metadata": {},
   "outputs": [
    {
     "name": "stdout",
     "output_type": "stream",
     "text": [
      "Framework PDB exists: True\n",
      "Target PDB exists: True\n",
      "(If these are missing, please download from https://github.com/mhoie/bioit-rfantibody before proceeding)\n"
     ]
    }
   ],
   "source": [
    "import os\n",
    "framework_pdb = \"hu-4D5-8_Fv.pdb\"\n",
    "target_pdb = \"rsv_site3.pdb\"\n",
    "hotspot_res = \"[T305,T456]\"\n",
    "print(f\"Framework PDB exists: {os.path.exists(framework_pdb)}\")\n",
    "print(f\"Target PDB exists: {os.path.exists(target_pdb)}\")\n",
    "print(f\"(If these are missing, please download from https://github.com/mhoie/bioit-rfantibody before proceeding)\")"
   ]
  },
  {
   "cell_type": "markdown",
   "metadata": {},
   "source": [
    "## Step 1 of 4: Generate antibody-antigen docking pose, with [RFDiffusion (antibody-finetuned)](https://biolib.com/BioLibDevelopment/prediction-app/)\n",
    "*Estimated time: ~2-3 minutes*\n",
    "\n",
    "This step takes the input antibody framework and target protein, and designs the 3D structure of new CDR loops in interaction with the target protein (antibody-antigen docking pose). The CDR loops will be generated as backbones only (no residues), with the actual residues to be determined in the next step."
   ]
  },
  {
   "cell_type": "markdown",
   "metadata": {},
   "source": [
    "#### [Input parameters](https://biolib.com/BioLibDevelopment/prediction-app/)\n",
    "\n",
    "Already set above:\n",
    "- **framework_pdb**: Path to the antibody framework we're using (e.g. hu-4D5-8_Fv.pdb)\n",
    "- **target_pdb**: Path to the target protein structure (e.g. rsv_site3.pdb)\n",
    "- **hotspot_res**: List of hotspot residues defining our epitope (target binding site)\n",
    "\n",
    "New parameters:\n",
    "- **design_loops**: Dictionary mapping each CDR loop to a range of allowed loop lengths\n",
    "  - L1, L2, L3: Light chain CDR loops\n",
    "  - H1, H2, H3: Heavy chain CDR loops\n",
    "  - Numbers specify length ranges (e.g., L1:8-13 means loop L1 can be 8-13 residues long)\n",
    "  - Example: `[L1:8-13,L2:7,L3:9-11,H1:7,H2:6,H3:5-13]`\n",
    "- **num_designs**: Number of designs to generate (20)\n"
   ]
  },
  {
   "cell_type": "code",
   "execution_count": 31,
   "metadata": {},
   "outputs": [
    {
     "name": "stdout",
     "output_type": "stream",
     "text": [
      "2025-03-25 16:15:56,983 | INFO : Loaded project BioITWorkshop/RFDiffusionAntibody:0.0.2\n",
      "2025-03-25 16:16:01,125 | INFO : View the result in your browser at: https://biolib.com/results/50b629d4-2b62-49ce-b8d1-733fb4038bb7/\n"
     ]
    }
   ],
   "source": [
    "# Input parameters (antibody framework and target PDBs are set above)\n",
    "design_loops = \"[L1:8-13,L2:7,L3:9-11,H1:7,H2:6,H3:5-13]\"\n",
    "num_designs = 1\n",
    "\n",
    "# Run RFdiffusion through BioLib\n",
    "app_rfdiff = biolib.load('BioITWorkshop/RFDiffusionAntibody')  # Replace with actual RFantibody app ID\n",
    "job_rfdiff = app_rfdiff.start(\n",
    "    target_pdb=target_pdb,\n",
    "    framework_pdb=framework_pdb,\n",
    "    hotspot_res=hotspot_res,\n",
    "    design_loops=design_loops,\n",
    "    num_designs=num_designs,\n",
    ")"
   ]
  },
  {
   "cell_type": "markdown",
   "metadata": {},
   "source": [
    "#### Wait for RFdiffusion output files (~2-3 minutes)\n",
    "The RFdiffusion step generates PDB files containing the antibody framework with designed CDR loops docked to the target protein. At this stage, the CDR loops have backbone structures but no amino acid sequences yet!\n",
    "\n",
    "Main output file:\n",
    "- output/rfdiffusion/_0.pdb - Antibody PDB backbone (N, Ca, C, O atoms only), lacking the CDR loop residues (which will be predicted in the next step)\n",
    "\n",
    "Example output format:\n",
    "```pdb\n",
    "ATOM      1  N   GLU H   1      23.793  -8.718 -21.757  1.00  1.00\n",
    "\n",
    "ATOM      2  CA  GLU H   1      23.755  -8.421 -20.330  1.00  1.00\n",
    "\n",
    "ATOM      3  C   GLU H   1      23.563  -6.931 -20.082  1.00  1.00\n",
    "\n",
    "ATOM      4  O   GLU H   1      23.856  -6.105 -20.947  1.00  1.00\n",
    "\n",
    "ATOM      5  N   VAL H   2      22.855  -6.630 -18.891  1.00  1.00\n",
    "```"
   ]
  },
  {
   "cell_type": "code",
   "execution_count": 32,
   "metadata": {},
   "outputs": [
    {
     "name": "stdout",
     "output_type": "stream",
     "text": [
      "2025-03-25 16:29:28,326 | INFO : Saving 4 files to output/rfdiffusion...\n",
      "\u001b[01;34moutput/rfdiffusion\u001b[0m\n",
      "├── \u001b[00m_0.pdb\u001b[0m\n",
      "├── \u001b[00m_0.trb\u001b[0m\n",
      "└── \u001b[01;34mtraj\u001b[0m\n",
      "    ├── \u001b[00m_0_Xt-1_traj.pdb\u001b[0m\n",
      "    └── \u001b[00m_0_pX0_traj.pdb\u001b[0m\n",
      "\n",
      "2 directories, 4 files\n"
     ]
    }
   ],
   "source": [
    "# Try to save job output files\n",
    "#job_rfdiff = biolib.get_job(\"ff4b0442-acb9-4c44-95fe-28e87b692e7b\") # DEBUG\n",
    "assert job_rfdiff.get_status() == \"completed\", \"Job still in progress...\"\n",
    "job_rfdiff.save_files(\"output/rfdiffusion\", skip_file_if_exists=True)\n",
    "!tree output/rfdiffusion"
   ]
  },
  {
   "cell_type": "markdown",
   "metadata": {},
   "source": [
    "## Step 2 of 4: Design binding CDR loop residues with [ProteinMPNN](https://biolib.com/BioLibDevelopment/prediction-app/)\n",
    "*Estimated time: <1 minute*\n",
    "\n",
    "The second step takes the docks generated by RFdiffusion and assigns amino acid sequences to the CDR loops using ProteinMPNN. We use the base version of ProteinMPNN (not an antibody-finetuned model) with a wrapper script that focuses on designing just the CDR loops.\n",
    "\n",
    "#### [Input parameters](https://biolib.com/BioLibDevelopment/prediction-app/)\n",
    "- **pdb**: Directory containing the previous RFdiffusion output PDB files, or a single PDB file"
   ]
  },
  {
   "cell_type": "code",
   "execution_count": 6,
   "metadata": {},
   "outputs": [
    {
     "name": "stdout",
     "output_type": "stream",
     "text": [
      "2025-03-25 17:17:16,917 | INFO : Loaded project BioITWorkshop/ProteinMPNNAb:0.0.3\n",
      "2025-03-25 17:17:20,157 | INFO : View the result in your browser at: https://biolib.com/results/f1cac0f6-1bc5-4018-a18d-08639403f8a8/\n"
     ]
    }
   ],
   "source": [
    "# Input directory\n",
    "input_dir = \"output/rfdiffusion\"  # Using the output from RFdiffusion\n",
    "\n",
    "# Run ProteinMPNN\n",
    "app_mpnn = biolib.load('BioITWorkshop/ProteinMPNNAb')\n",
    "job_mpnn = app_mpnn.start(\n",
    "    pdb=input_dir,\n",
    "    num_seqs_per_struct=3\n",
    ")"
   ]
  },
  {
   "cell_type": "markdown",
   "metadata": {},
   "source": [
    "#### Wait for ProteinMPNN output files (<1 minute)\n",
    "ProteinMPNN outputs PDB files with the same structures as the input but with amino acid sequences designed for the CDR loops. By default, it provides one sequence per input structure.\n",
    "\n",
    "Output files:\n",
    "- _0_dldesign_0.pdb (antibody structure with predicted CDR residues)\n",
    "- _0_dldesign_1.pdb (antibody structure with predicted CDR residues)\n",
    "- ... etc\n",
    "\n",
    "\n",
    "Example output:\n",
    "```pdb\n",
    "ATOM      1  N   GLU H   1      23.793  -8.718 -21.757  1.00  0.00\n",
    "ATOM      2  CA  GLU H   1      23.755  -8.421 -20.330  1.00  0.00\n",
    "ATOM      3  C   GLU H   1      23.563  -6.931 -20.082  1.00  0.00\n",
    "ATOM      4  O   GLU H   1      23.856  -6.105 -20.947  1.00  0.00\n",
    "ATOM      5  N   VAL H   2      22.855  -6.630 -18.891  1.00  0.00\n",
    "ATOM      6  CA  VAL H   2      22.864  -5.216 -18.533  1.00  0.00\n",
    "```"
   ]
  },
  {
   "cell_type": "code",
   "execution_count": 10,
   "metadata": {},
   "outputs": [
    {
     "name": "stdout",
     "output_type": "stream",
     "text": [
      "2025-03-25 17:19:39,104 | INFO : Saving 3 files to output/proteinmpnn...\n",
      "Skipping output/proteinmpnn/_0_dldesign_0.pdb as a file with that name already exists locally.\n",
      "Skipping output/proteinmpnn/_0_dldesign_1.pdb as a file with that name already exists locally.\n",
      "Skipping output/proteinmpnn/_0_dldesign_2.pdb as a file with that name already exists locally.\n",
      "\u001b[01;34moutput/proteinmpnn\u001b[0m\n",
      "├── \u001b[00m_0_dldesign_0.pdb\u001b[0m\n",
      "├── \u001b[00m_0_dldesign_1.pdb\u001b[0m\n",
      "└── \u001b[00m_0_dldesign_2.pdb\u001b[0m\n",
      "\n",
      "1 directory, 3 files\n"
     ]
    }
   ],
   "source": [
    "# Try to save job output files\n",
    "if job_mpnn.is_pending():\n",
    "    print(\"Job is still running...\")\n",
    "else:\n",
    "    job_mpnn.save_files(\"output/proteinmpnn\", skip_file_if_exists=True)\n",
    "    !tree output/proteinmpnn"
   ]
  },
  {
   "cell_type": "markdown",
   "metadata": {},
   "source": [
    "## Step 3 / 4: Filter designs for predicted structure self-consistency, with [RosettaFold2 antibody fine-tuned](https://biolib.com/BioLibDevelopment/prediction-app/)\n",
    "*Estimated time: ~1-2 minutes*\n",
    "\n",
    "The final step uses an antibody-finetuned version of RoseTTAFold2 (RF2) to predict the structure of the designed sequences and assess whether RF2 is confident that the sequence will bind as designed.\n",
    "\n",
    "The RFantibody protocol recommends filtering on the following metrics, shown to lead to an up to 10X improvement in experimental success rates.\n",
    "- RF2 predicted alignment error (pAE) < 10\n",
    "- RMSD between design and RF2 prediction < 2Å for the CDRs\n",
    "\n",
    "### [Input parameters](https://biolib.com/BioLibDevelopment/prediction-app/)\n",
    "\n",
    "- **input.pdb_dir**: Directory containing the PDB files from ProteinMPNN\n",
    "- **num_recycles**: Number of recycling iterations in the model (default: 10)\n",
    "- **hotspot**: Percentage of hotspots provided to the model (default: 10%)"
   ]
  },
  {
   "cell_type": "code",
   "execution_count": 12,
   "metadata": {},
   "outputs": [
    {
     "name": "stdout",
     "output_type": "stream",
     "text": [
      "2025-03-25 17:23:38,881 | INFO : Loaded project BioITWorkshop/RF2Antibody:0.0.3\n",
      "2025-03-25 17:23:41,251 | INFO : View the result in your browser at: https://biolib.com/results/8b350a73-fba9-4635-a195-4d788340ca33/\n"
     ]
    }
   ],
   "source": [
    "# Input directory\n",
    "input_dir = \"output/proteinmpnn\"  # Using the output from ProteinMPNN\n",
    "\n",
    "# Run RosettaFold2\n",
    "app_rf2 = biolib.load('BioITWorkshop/RF2Antibody')  # Replace with actual app ID\n",
    "job_rf2 = app_rf2.start(\n",
    "    pdb=input_dir,\n",
    "    num_recycles=3,\n",
    ")"
   ]
  },
  {
   "cell_type": "markdown",
   "metadata": {},
   "source": [
    "#### Wait for RosettaFold2 output files (1-2 minutes)\n",
    "RosettaFold2 predicts the structure of the designed antibodies and provides confidence metrics. We can use these to filter for promising designs.\n",
    "\n",
    "Output files:\n",
    "- scores.csv - Predicted structural quality scores for filtering of designs\n",
    "- _0_dldesign_0.pdb - Predicted structure of design 0\n",
    "- _0_dldesign_1.pdb - Predicted structure of design 1\n",
    "- ... etc\n",
    "\n",
    "Example output scores.tsv:\n",
    "```csv\n",
    "interaction_pae,pae,    pred_lddt,  target_aligned_antibody_rmsd, ..., framework_aligned_cdr_rmsd, ...\n",
    "8.07,           8.77,   0.9,        11.53,                        ..., 2.18,                       ...\n",
    "7.52,           8.19,   0.89,       18.97,                        ..., 2.4,                        ...\n",
    "8.47,           9.15,   0.9,        10.8,                        ...,  2.35,                       ...\n",
    "\n",
    "```\n",
    "\n",
    "Of these, our target values are:\n",
    "- Predicted alignment error (pae) below 10\n",
    "- Framework aligned CDR rmsd (framework_aligned_cdr_rmsd) below 2.00"
   ]
  },
  {
   "cell_type": "code",
   "execution_count": 13,
   "metadata": {},
   "outputs": [
    {
     "name": "stdout",
     "output_type": "stream",
     "text": [
      "2025-03-25 17:30:34,829 | INFO : Saving 4 files to output/rosettafold2...\n",
      "Skipping output/rosettafold2/_0_dldesign_2.pdb as a file with that name already exists locally.\n",
      "Skipping output/rosettafold2/_0_dldesign_1.pdb as a file with that name already exists locally.\n",
      "Skipping output/rosettafold2/_0_dldesign_0.pdb as a file with that name already exists locally.\n",
      "Skipping output/rosettafold2/scores.csv as a file with that name already exists locally.\n",
      "\u001b[01;34moutput/rosettafold2\u001b[0m\n",
      "├── \u001b[00m_0_dldesign_0.pdb\u001b[0m\n",
      "├── \u001b[00m_0_dldesign_1.pdb\u001b[0m\n",
      "├── \u001b[00m_0_dldesign_2.pdb\u001b[0m\n",
      "└── \u001b[00mscores.csv\u001b[0m\n",
      "\n",
      "1 directory, 4 files\n"
     ]
    }
   ],
   "source": [
    "# Try to save job output files\n",
    "if job_rf2.is_pending():\n",
    "    print(\"Job is still running...\")\n",
    "else:\n",
    "    job_rf2.save_files(\"output/rosettafold2\", skip_file_if_exists=True)\n",
    "    !tree \"output/rosettafold2\""
   ]
  },
  {
   "cell_type": "code",
   "execution_count": null,
   "metadata": {},
   "outputs": [],
   "source": []
  },
  {
   "cell_type": "markdown",
   "metadata": {},
   "source": [
    "## Step 4 of 4: Assess designs for pharmaceutical liabilities (AntibodyProfiler)"
   ]
  },
  {
   "cell_type": "markdown",
   "metadata": {},
   "source": [
    "*Estimated time: <1 minute*\n",
    "\n",
    "Here, we will use our in-house AntibodyProfiler tool to assess our antibody PDBs for how closely they relate to molecular properties of already approved therapeutic antibodies. Antibody designs outside this range may indicate higher risk of pharmaceutical liabilities, providing another early filtering step before designs are sent to the lab for experimental validation.\n",
    "\n",
    "We recommend selecting designs within 2-sigma deviation of approved antibodies for the following metrics:\n",
    "- Total CDR length between X and Y \n",
    "- CDR3 heavy chain length between X and Y \n",
    "- Patches of surface hydrophobicity in CDR vicinity (PSH) between X and Y \n",
    "- Patches of positive charge in CDR vicinity (PPC) between X and Y\n",
    "- Patches of negative charge in CDR vicinity (PNC) between X and Y \n",
    "- Structural fragment variable charge symmetry parameter (SFvCSP) between X and Y\n",
    "\n",
    "### [Input parameters](https://biolib.com/BioLibDevelopment/prediction-app/)\n",
    "\n",
    "- **input.pdb_dir**: Directory containing the PDB files from ProteinMPNN\n",
    "- **num_recycles**: Number of recycling iterations in the model (default: 10)\n",
    "- **hotspot**: Percentage of hotspots provided to the model (default: 10%)"
   ]
  },
  {
   "cell_type": "code",
   "execution_count": 14,
   "metadata": {},
   "outputs": [
    {
     "name": "stdout",
     "output_type": "stream",
     "text": [
      "2025-03-25 17:41:21,718 | INFO : Loaded project BioLibDevelopment/AntibodyProfiler:0.0.32\n",
      "2025-03-25 17:41:26,327 | INFO : View the result in your browser at: https://biolib.com/results/60efe401-0ca8-4fc3-8237-e8089eab16b7/\n"
     ]
    }
   ],
   "source": [
    "# Input directory\n",
    "input_dir = \"output/rosettafold2\"  # Using the output from RosettaFold2\n",
    "\n",
    "# Run RosettaFold2\n",
    "app_abprofiler = biolib.load('BioLibDevelopment/AntibodyProfiler') # TODO - push to main branch so the last version is used\n",
    "app_abprofiler = app_abprofiler.start(\n",
    "    pdb=input_dir, # DEBUG - need to add automatic csv file generation for dir input, accepting hlt format\n",
    ")"
   ]
  },
  {
   "cell_type": "markdown",
   "metadata": {},
   "source": [
    "#### Wait for AntibodyProfiler output files (<1 minute)\n",
    "AntibodyProfiler calculates developability metrics compared to approved therapeutic antibodies already on the market, giving warning flags for input PDBs outside this range.\n",
    "\n",
    "Main output file:\n",
    "- results.csv (Summary metrics compared to therapeutically approved antibodies for each PDB)\n",
    "\n",
    "```csv\n",
    "pdb_name,       cdrh3_length,total_cdr_length,flag_cdrh3,flag_total_cdr,psh_value,flag_psh\n",
    "_0_dldesign_2,  13,          35,              none,       yellow,       116.90, none\n",
    "_0_dldesign_1,  13,          35,              none,       yellow,       90.53,  none\n",
    "_0_dldesign_0,  13,          35,              none,       yellow,       149.84, none\n",
    "```\n",
    "\n",
    "Of these, our target values are:\n",
    "- CDR3 heavy chain length (cdrh3_length): 5-23\n",
    "- CDR length (total_cdr_length): 39-60\n",
    "- Patches of surface hydrophobicity in CDR vicinity (psh_value): 30-150\n",
    "\n",
    "Values outside this range will be flagged with a color, depending on where they fall in the distribution of human therapeutic antibodies."
   ]
  },
  {
   "cell_type": "code",
   "execution_count": 48,
   "metadata": {},
   "outputs": [
    {
     "name": "stdout",
     "output_type": "stream",
     "text": [
      "2025-03-25 16:57:44,984 | INFO : Saving 24 files to output/abprofiler...\n",
      "\u001b[01;34moutput/abprofiler\u001b[0m\n",
      "├── \u001b[01;34m_0_dldesign_0\u001b[0m\n",
      "│   ├── \u001b[00m_0_dldesign_0.pdb\u001b[0m\n",
      "│   ├── \u001b[00m_0_dldesign_0_CDRH3_length.png\u001b[0m\n",
      "│   ├── \u001b[00m_0_dldesign_0_Human_CDRH3_length.png\u001b[0m\n",
      "│   ├── \u001b[00m_0_dldesign_0_Human_CDR_length.png\u001b[0m\n",
      "│   ├── \u001b[00m_0_dldesign_0_Human_PSH_distribution.png\u001b[0m\n",
      "│   ├── \u001b[00m_0_dldesign_0_PSH_distribution.png\u001b[0m\n",
      "│   └── \u001b[00m_0_dldesign_0_Total_CDR_length.png\u001b[0m\n",
      "├── \u001b[01;34m_0_dldesign_1\u001b[0m\n",
      "│   ├── \u001b[00m_0_dldesign_1.pdb\u001b[0m\n",
      "│   ├── \u001b[00m_0_dldesign_1_CDRH3_length.png\u001b[0m\n",
      "│   ├── \u001b[00m_0_dldesign_1_Human_CDRH3_length.png\u001b[0m\n",
      "│   ├── \u001b[00m_0_dldesign_1_Human_CDR_length.png\u001b[0m\n",
      "│   ├── \u001b[00m_0_dldesign_1_Human_PSH_distribution.png\u001b[0m\n",
      "│   ├── \u001b[00m_0_dldesign_1_PSH_distribution.png\u001b[0m\n",
      "│   └── \u001b[00m_0_dldesign_1_Total_CDR_length.png\u001b[0m\n",
      "├── \u001b[01;34m_0_dldesign_2\u001b[0m\n",
      "│   ├── \u001b[00m_0_dldesign_2.pdb\u001b[0m\n",
      "│   ├── \u001b[00m_0_dldesign_2_CDRH3_length.png\u001b[0m\n",
      "│   ├── \u001b[00m_0_dldesign_2_Human_CDRH3_length.png\u001b[0m\n",
      "│   ├── \u001b[00m_0_dldesign_2_Human_CDR_length.png\u001b[0m\n",
      "│   ├── \u001b[00m_0_dldesign_2_Human_PSH_distribution.png\u001b[0m\n",
      "│   ├── \u001b[00m_0_dldesign_2_PSH_distribution.png\u001b[0m\n",
      "│   └── \u001b[00m_0_dldesign_2_Total_CDR_length.png\u001b[0m\n",
      "├── \u001b[00mgui.html\u001b[0m\n",
      "├── \u001b[00moutput.json\u001b[0m\n",
      "└── \u001b[00mresults.csv\u001b[0m\n",
      "\n",
      "4 directories, 24 files\n"
     ]
    }
   ],
   "source": [
    "# Try to save job output files\n",
    "if app_abprofiler.is_pending():\n",
    "    print(\"Job is still running...\")\n",
    "else:\n",
    "    job_abprofiler.save_files(\"output/abprofiler\", skip_file_if_exists=True)\n",
    "    !tree output/abprofiler"
   ]
  },
  {
   "cell_type": "markdown",
   "metadata": {},
   "source": [
    "## Conclusion\n",
    "\n",
    "This notebook has demonstrated the complete RFantibody pipeline for structure-based design of de novo antibodies. The workflow consists of three main steps:\n",
    "\n",
    "1. **RFdiffusion (antibody fine-tuned)**: Generating antibody-target docking poses with designed CDR loop structures\n",
    "2. **ProteinMPNN (antibody fine-tuned)**: Designing amino acid sequences for the CDR loops\n",
    "3. **RosettaFold2 (antibody fine-tuned)**: Filtering designs based on predicted structure quality\n",
    "4. **AntibodyProfiler**: Further selection of designs based on similarity to therapeutically approved antibodies\n",
    "\n",
    "This computational pipeline can generate designs with a success rate of approximately 5-10% for some degree of binding to the target. Further experimental validation and optimization is likely to be required to improve binding affinity and other pharmaceutical properties.\n",
    "\n",
    "For larger scale antibody design campaigns, we recommended to generating thousands of designs to increase the chances of finding high-quality binders, as the current filtering metrics are still highly limited."
   ]
  }
 ],
 "metadata": {
  "kernelspec": {
   "display_name": "base",
   "language": "python",
   "name": "python3"
  },
  "language_info": {
   "codemirror_mode": {
    "name": "ipython",
    "version": 3
   },
   "file_extension": ".py",
   "mimetype": "text/x-python",
   "name": "python",
   "nbconvert_exporter": "python",
   "pygments_lexer": "ipython3",
   "version": "3.12.4"
  }
 },
 "nbformat": 4,
 "nbformat_minor": 2
}
