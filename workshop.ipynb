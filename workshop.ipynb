{
  "cells": [
    {
      "cell_type": "markdown",
      "metadata": {
        "id": "ulYRoH0mhCJK"
      },
      "source": [
        "Todo:\n",
        "- X Add all prediction apps, update URLs below\n",
        "- X Ensure prediction apps have clear visualizations\n",
        "- X Double check input/output files and example output format are correct!\n",
        "- AntibodyProfiler: Accept HLT format PDB files, antigen chain\n",
        "- New BioLib app: chotia_to_hlt for choosing own target and antibody framework\n",
        "- Stress-test servers, spin up capacity before workshop\n",
        "\n",
        "Nice to have:\n",
        "- Leaderboard\n",
        "- \"Master\" BioLib app implementing all functionality in one app (easier to parallelize)"
      ]
    },
    {
      "cell_type": "markdown",
      "metadata": {
        "id": "wwgkXbL2hCJK"
      },
      "source": [
        "## De novo generation of antibody binders with RFantibody\n",
        "[![colab.ipynb](https://img.shields.io/badge/github-%23121011.svg?logo=github)](https://github.com/mhoie/workshop/blob/main/workshop.ipynb)\n",
        "[![Open In Colab](https://colab.research.google.com/assets/colab-badge.svg)](https://colab.research.google.com/github/mhoie/workshop/blob/main/workshop.ipynb)"
      ]
    },
    {
      "cell_type": "markdown",
      "metadata": {
        "id": "GXkbBhvihCJK"
      },
      "source": [
        "In this notebook, you may choose your own antibody framework and target protein structure, and design novel antibody binders. This workflow has been shown to generate weak antibody binders in the μM to nM range, with up to ~5-10% experimental success rates for some degree of binding."
      ]
    },
    {
      "cell_type": "markdown",
      "metadata": {
        "id": "DbiPeDZ2hCJK"
      },
      "source": [
        "\n",
        "---\n"
      ]
    },
    {
      "cell_type": "markdown",
      "metadata": {
        "id": "JDKXwkQWhCJK"
      },
      "source": [
        "Antibody therapeutics represent a substantial market (approximately $550M USD) with tremendous potential for treating various diseases. Traditional approaches to antibody discovery are slow and laborious, typically involving immunizing mice or screening random libraries.\n",
        "\n",
        "This notebook implements the RFantibody pipeline for structure-based design of de novo antibodies against a chosen target.\n",
        "\n",
        "This workflow only requires two inputs:\n",
        "- i) An input antibody framework (e.g. hu-4D5-8_Fv.pdb - a humanized ScFv antibody framework PDB\n",
        "- ii) A target protein of interest (e.g. respiratory syncytial virus (RSV) protein) with binding site (epitope residues)\n",
        "\n",
        "And runs the following three methods:\n",
        "1. **De novo design of an antibody backbone targeting a protein of interest** - using an antibody-finetuned version of RFdiffusion ([Nature paper](https://www.nature.com/articles/s41586-023-06415-8))\n",
        "2. **Design of the CDR loop residues** - using ProteinMPNN ([Science paper](https://www.science.org/doi/10.1126/science.add2187))\n",
        "3. **Filtering designs on predicted structure 'self-consistency'** - using an antibody-finetuned version of RoseTTAFold2 ([Preprint](https://www.biorxiv.org/content/10.1101/2023.05.24.542179v1)), shown to correlate with significantly improved experimental success rates.\n",
        "\n",
        "The RFantibody pipeline itself is described in detail in [this preprint](https://www.biorxiv.org/content/10.1101/2024.03.14.585103v2)."
      ]
    },
    {
      "cell_type": "markdown",
      "metadata": {
        "id": "WoNlid3HhCJL"
      },
      "source": [
        "**Advantages:**\n",
        "- Designs novel antibodies binding a target protein\n",
        "- Can target most epitope binding region of interest (preferring structured regions)\n",
        "- Focuses on designing antibody CDR loops (main residues determining binding)\n",
        "- Designs may be filtered by \"self-cosistency\" of predicted structures, correlating with experimental success rates\n",
        "\n",
        "**Current limitations:**\n",
        "- Generated antibodies at best tend to be weak binders (low binding affinities in μM to nM range)\n",
        "- Often low experimental success rates (~5-10% for some degree of binding) - heavily dependent on filtering\n",
        "- No screening for e.g. human immunogenicity\n",
        "\n",
        "**Read more:**\n",
        "- To read more about this workflow, please refer to the RFAntibody Github page: https://github.com/RosettaCommons/RFantibody/blob/main/README.md\n",
        "- And the Biorxiv pre-print by Bennett et al 2024: https://www.biorxiv.org/content/10.1101/2024.03.14.585103v2"
      ]
    },
    {
      "cell_type": "markdown",
      "metadata": {},
      "source": [
        "<img src=\"img/whiteboard4.jpg\" style=\"width:70%;\">"
      ]
    },
    {
      "cell_type": "markdown",
      "metadata": {
        "id": "yd-TURr3hCJL"
      },
      "source": [
        "## Pre-requisites for this workshop\n",
        "\n",
        "The only pre-requisites for this workshop are the following:\n",
        "- i) Register a BioLib account on [https://biolib.com/sign-up](https://biolib.com/sign-up), for running RFantibody jobs (requires a GPU) in the cloud.\n",
        "- ii) An antibody PDB and target protein structure PDB. Examples are provided below, but you may also provide your own following the instructions below."
      ]
    },
    {
      "cell_type": "markdown",
      "metadata": {
        "id": "GuvA6ZychCJL"
      },
      "source": [
        "#### i) Install pybiolib and login to biolib.com"
      ]
    },
    {
      "cell_type": "code",
      "execution_count": 1,
      "metadata": {
        "colab": {
          "base_uri": "https://localhost:8080/"
        },
        "id": "NyBRznjZhCJL",
        "outputId": "e6d91fe4-7e27-424c-c00b-b0510caced8b"
      },
      "outputs": [],
      "source": [
        "# Download BioLib\n",
        "!pip install --quiet --upgrade pybiolib"
      ]
    },
    {
      "cell_type": "code",
      "execution_count": 2,
      "metadata": {
        "colab": {
          "base_uri": "https://localhost:8080/",
          "height": 69
        },
        "id": "hpZtb9ewhCJL",
        "outputId": "20567a35-45ee-4ea1-e150-ab536ca9fa8d"
      },
      "outputs": [
        {
          "name": "stdout",
          "output_type": "stream",
          "text": [
            "2025-03-31 11:26:18,087 | INFO : Already signed in\n"
          ]
        }
      ],
      "source": [
        "# Login with BioLib\n",
        "import biolib\n",
        "biolib.login()"
      ]
    },
    {
      "cell_type": "markdown",
      "metadata": {
        "id": "ejdjtQRQhCJL"
      },
      "source": [
        "#### ii) Set input antibody and target PDB\n",
        "We're working with two primary input files for RFAntibody:\n",
        "\n",
        "1. **framework_pdb**: `hu-4D5-8_Fv.pdb` - A humanized ScFv antibody Framework\n",
        "2. **target_pdb**: `rsv_site3.pdb` - The target protein (RSV site 3) of interest\n",
        "3. List of hotspot residues defining our epitope (target binding site)\n",
        "\n",
        "Let's verify that these files exists."
      ]
    },
    {
      "cell_type": "code",
      "execution_count": 14,
      "metadata": {
        "id": "geQVU_mXhCJL"
      },
      "outputs": [],
      "source": [
        "# Download input files if not already present\n",
        "!wget --no-verbose -nc \"https://raw.githubusercontent.com/mhoie/workshop/refs/heads/main/hu-4D5-8_Fv.pdb\"\n",
        "!wget --no-verbose -nc \"https://raw.githubusercontent.com/mhoie/workshop/refs/heads/main/rsv_site3.pdb\""
      ]
    },
    {
      "cell_type": "markdown",
      "metadata": {
        "id": "VIFocUkhhCJL"
      },
      "source": [
        "#### iii) Bring your own target (optional)\n",
        "You may also choose your own antibody framework and target PDB, prepared with this script:\n",
        "https://github.com/RosettaCommons/RFantibody?tab=readme-ov-file#input-preparation\n",
        "\n"
      ]
    },
    {
      "cell_type": "markdown",
      "metadata": {
        "id": "d9kqKMCkhCJL"
      },
      "source": [
        "## Step 1 of 4: Generate antibody-antigen docking pose, with [RFDiffusion (antibody-finetuned)](https://biolib.com/BioITWorkshop/RFDiffusionAntibody)\n",
        "*Estimated time: ~2-3 minutes*\n",
        "\n",
        "This step takes the input antibody framework and target protein, and designs the 3D structure of new CDR loops in interaction with the target protein (antibody-antigen docking pose). The CDR loops will be generated as backbones only (no residues), with the actual residues to be determined in the next step."
      ]
    },
    {
      "cell_type": "markdown",
      "metadata": {
        "id": "GhuETazlhCJL"
      },
      "source": [
        "#### [RFDiffusion input parameters](https://biolib.com/BioITWorkshop/RFDiffusionAntibody)\n",
        "\n",
        "Already set above:\n",
        "- **framework_pdb**: Path to the antibody framework we're using (e.g. hu-4D5-8_Fv.pdb)\n",
        "- **target_pdb**: Path to the target protein structure (e.g. rsv_site3.pdb)\n",
        "- **hotspot_res**: List of hotspot residues defining our epitope (target binding site)\n",
        "\n",
        "New parameters:\n",
        "- **design_loops**: Dictionary mapping each CDR loop to a range of allowed loop lengths\n",
        "  - L1, L2, L3: Light chain CDR loops\n",
        "  - H1, H2, H3: Heavy chain CDR loops\n",
        "  - Numbers specify length ranges (e.g., L1:8-13 means loop L1 can be 8-13 residues long)\n",
        "  - Example: `[L1:8-13,L2:7,L3:9-11,H1:7,H2:6,H3:5-13]`\n",
        "- **num_designs**: Number of designs to generate (20)\n"
      ]
    },
    {
      "cell_type": "code",
      "execution_count": null,
      "metadata": {
        "id": "BKVVCyQNsiZt"
      },
      "outputs": [],
      "source": [
        "# RFDiffusion input\n",
        "framework_pdb = \"hu-4D5-8_Fv.pdb\"\n",
        "target_pdb = \"rsv_site3.pdb\"\n",
        "hotspot_res = \"[T305,T456]\"'\n",
        "\n",
        "# RFDiffusion parameters\n",
        "design_loops = \"[L1:8-13,L2:7,L3:9-11,H1:7,H2:6,H3:5-13]\"\n",
        "num_designs = 1\n",
        "\n",
        "# Check that everything present\n",
        "import os\n",
        "print(f\"Framework PDB exists: {os.path.exists(framework_pdb)}\")\n",
        "print(f\"Target PDB exists: {os.path.exists(target_pdb)}\")\n",
        "print(f\"(If these are missing, please download from https://github.com/mhoie/bioit-rfantibody before proceeding)\")"
      ]
    },
    {
      "cell_type": "code",
      "execution_count": 16,
      "metadata": {
        "colab": {
          "base_uri": "https://localhost:8080/"
        },
        "id": "s6CU5W0OhCJL",
        "outputId": "236dadd4-5ad4-4698-c448-d93922984c16"
      },
      "outputs": [
        {
          "name": "stderr",
          "output_type": "stream",
          "text": [
            "INFO:biolib:Loaded project BioITWorkshop/RFDiffusionAntibody:0.0.2\n",
            "INFO:biolib:View the result in your browser at: https://biolib.com/results/5fb1dfeb-fc93-490e-a5f2-7cd5f683e950/\n"
          ]
        }
      ],
      "source": [
        "\n",
        "# Run RFdiffusion through BioLib\n",
        "app_rfdiff = biolib.load('BioITWorkshop/RFDiffusionAntibody')  # Replace with actual RFantibody app ID\n",
        "job_rfdiff = app_rfdiff.run(\n",
        "    target_pdb=target_pdb,\n",
        "    framework_pdb=framework_pdb,\n",
        "    hotspot_res=hotspot_res,\n",
        "    design_loops=design_loops,\n",
        "    num_designs=num_designs,\n",
        ")\n",
        "job_rfdiff.save_files(\"output/rfdiffusion\", skip_file_if_exists=True)\n",
        "job_rfdiff.list_output_files()"
      ]
    },
    {
      "cell_type": "markdown",
      "metadata": {
        "id": "-Jl7-hS5hCJL"
      },
      "source": [
        "#### Wait for RFdiffusion output files (~2-3 minutes)\n",
        "The RFdiffusion step generates PDB files containing the antibody framework with designed CDR loops docked to the target protein. At this stage, the CDR loops have backbone structures but no amino acid sequences yet!\n",
        "\n",
        "Main output file:\n",
        "- output/rfdiffusion/_0.pdb - Antibody PDB backbone (N, Ca, C, O atoms only), lacking the CDR loop residues (which will be predicted in the next step)\n",
        "\n",
        "Example output format:\n",
        "```pdb\n",
        "ATOM      1  N   GLU H   1      23.793  -8.718 -21.757  1.00  1.00\n",
        "\n",
        "ATOM      2  CA  GLU H   1      23.755  -8.421 -20.330  1.00  1.00\n",
        "\n",
        "ATOM      3  C   GLU H   1      23.563  -6.931 -20.082  1.00  1.00\n",
        "\n",
        "ATOM      4  O   GLU H   1      23.856  -6.105 -20.947  1.00  1.00\n",
        "\n",
        "ATOM      5  N   VAL H   2      22.855  -6.630 -18.891  1.00  1.00\n",
        "```"
      ]
    },
    {
      "cell_type": "code",
      "execution_count": 13,
      "metadata": {
        "colab": {
          "base_uri": "https://localhost:8080/"
        },
        "id": "l8MUkmJthCJL",
        "outputId": "ff646f02-c742-4668-c6b2-79db01f10878"
      },
      "outputs": [
        {
          "name": "stderr",
          "output_type": "stream",
          "text": [
            "INFO:biolib:Saving 4 files to output/rfdiffusion...\n"
          ]
        }
      ],
      "source": [
        "# Download job results when done\n",
        "if job_rfdiff.is_pending():\n",
        "    print(\"Job is still running...\")\n",
        "else:\n",
        "    \n",
        "    "
      ]
    },
    {
      "cell_type": "markdown",
      "metadata": {
        "id": "RSxrIpV9hCJM"
      },
      "source": [
        "## Step 2 of 4: Design binding CDR loop residues with [ProteinMPNN](https://biolib.com/BioITWorkshop/ProteinMPNNAb)\n",
        "*Estimated time: <1 minute*\n",
        "\n",
        "The second step takes the docks generated by RFdiffusion and assigns amino acid sequences to the CDR loops using ProteinMPNN. We use the base version of ProteinMPNN (not an antibody-finetuned model) with a wrapper script that focuses on designing just the CDR loops.\n",
        "\n",
        "#### [ProteinMPNN input parameters](https://biolib.com/BioITWorkshop/ProteinMPNNAb)\n",
        "- **pdb**: Directory containing the previous RFdiffusion output PDB files, or a single PDB file\n",
        "- **num_seqs_per_struct**: Number of sequences to design per input structure PDB file"
      ]
    },
    {
      "cell_type": "code",
      "execution_count": 17,
      "metadata": {
        "colab": {
          "base_uri": "https://localhost:8080/"
        },
        "id": "AfmUon9ThCJM",
        "outputId": "0aba660b-c8f0-41af-9628-5b2e293d6d63"
      },
      "outputs": [
        {
          "name": "stderr",
          "output_type": "stream",
          "text": [
            "INFO:biolib:Loaded project BioITWorkshop/ProteinMPNNAb:0.0.3\n",
            "INFO:biolib:View the result in your browser at: https://biolib.com/results/7870dc6f-0e88-4c28-a602-cfcf9990791f/\n"
          ]
        }
      ],
      "source": [
        "# Input directory\n",
        "input_dir = \"output/rfdiffusion\"  # Using the output from RFdiffusion\n",
        "\n",
        "# Run ProteinMPNN\n",
        "app_mpnn = biolib.load('BioITWorkshop/ProteinMPNNAb')\n",
        "job_mpnn = app_mpnn.run(\n",
        "    pdb=input_dir,\n",
        "    num_seqs_per_struct=3\n",
        ")\n",
        "job_mpnn.save_files(\"output/proteinmpnn\", skip_file_if_exists=True)\n",
        "job_mpnn.list_output_files()"
      ]
    },
    {
      "cell_type": "markdown",
      "metadata": {
        "id": "m17IkYofhCJM"
      },
      "source": [
        "#### Wait for ProteinMPNN output files (<1 minute)\n",
        "ProteinMPNN outputs PDB files with the same structures as the input but with amino acid sequences designed for the CDR loops. By default, it provides one sequence per input structure.\n",
        "\n",
        "Output files:\n",
        "- _0_dldesign_0.pdb (antibody structure with predicted CDR residues)\n",
        "- _0_dldesign_1.pdb (antibody structure with predicted CDR residues)\n",
        "- ... etc\n",
        "\n",
        "\n",
        "Example output:\n",
        "```pdb\n",
        "ATOM      1  N   GLU H   1      23.793  -8.718 -21.757  1.00  0.00\n",
        "ATOM      2  CA  GLU H   1      23.755  -8.421 -20.330  1.00  0.00\n",
        "ATOM      3  C   GLU H   1      23.563  -6.931 -20.082  1.00  0.00\n",
        "ATOM      4  O   GLU H   1      23.856  -6.105 -20.947  1.00  0.00\n",
        "ATOM      5  N   VAL H   2      22.855  -6.630 -18.891  1.00  0.00\n",
        "ATOM      6  CA  VAL H   2      22.864  -5.216 -18.533  1.00  0.00\n",
        "```"
      ]
    },
    {
      "cell_type": "code",
      "execution_count": 19,
      "metadata": {
        "colab": {
          "base_uri": "https://localhost:8080/"
        },
        "id": "Dap8bLxAhCJM",
        "outputId": "00ab2151-75bb-467d-d1c3-0a9e5d227090"
      },
      "outputs": [
        {
          "name": "stderr",
          "output_type": "stream",
          "text": [
            "INFO:biolib:Saving 3 files to output/proteinmpnn...\n"
          ]
        },
        {
          "name": "stdout",
          "output_type": "stream",
          "text": [
            "Skipping output/proteinmpnn/_0_dldesign_0.pdb as a file with that name already exists locally.\n",
            "Skipping output/proteinmpnn/_0_dldesign_1.pdb as a file with that name already exists locally.\n",
            "Skipping output/proteinmpnn/_0_dldesign_2.pdb as a file with that name already exists locally.\n",
            "[File \"/_0_dldesign_0.pdb\" with size of 129936 bytes, File \"/_0_dldesign_1.pdb\" with size of 129936 bytes, File \"/_0_dldesign_2.pdb\" with size of 129936 bytes]\n"
          ]
        }
      ],
      "source": [
        "# Download job results when done\n",
        "if job_mpnn.is_pending():\n",
        "    print(\"Job is still running...\")\n",
        "else:\n"
      ]
    },
    {
      "cell_type": "markdown",
      "metadata": {
        "id": "g3v6Po30hCJM"
      },
      "source": [
        "## Step 3 / 4: Filter designs for predicted structure self-consistency, with [RosettaFold2 antibody fine-tuned](https://biolib.com/BioITWorkshop/RF2Antibody)\n",
        "*Estimated time: ~1-2 minutes*\n",
        "\n",
        "The final step uses an antibody-finetuned version of RoseTTAFold2 (RF2) to predict the structure of the designed sequences and assess whether RF2 is confident that the sequence will bind as designed.\n",
        "\n",
        "The RFantibody protocol recommends filtering on the following metrics, shown to lead to an up to 10X improvement in experimental success rates.\n",
        "- RF2 predicted alignment error (pAE) < 10\n",
        "- RMSD between design and RF2 prediction < 2Å for the CDRs\n",
        "\n",
        "### [RosettaFold2 input parameters](https://biolib.com/BioITWorkshop/RF2Antibody)\n",
        "\n",
        "- **input.pdb_dir**: Directory containing the PDB files from ProteinMPNN\n",
        "- **num_recycles**: Number of recycling iterations in the model (default: 10). Higher numbers up to 10 improves accuracy but at increased computational time"
      ]
    },
    {
      "cell_type": "code",
      "execution_count": 20,
      "metadata": {
        "colab": {
          "base_uri": "https://localhost:8080/"
        },
        "id": "PjZ8w1kChCJM",
        "outputId": "0efaafbe-8653-4e85-bf6c-51cdae2f2700"
      },
      "outputs": [
        {
          "name": "stderr",
          "output_type": "stream",
          "text": [
            "INFO:biolib:Loaded project BioITWorkshop/RF2Antibody:0.0.3\n",
            "INFO:biolib:View the result in your browser at: https://biolib.com/results/a4de66df-5bdd-4ff5-b7e5-3680ece86287/\n"
          ]
        }
      ],
      "source": [
        "# Input directory\n",
        "input_dir = \"output/proteinmpnn\"  # Using the output from ProteinMPNN\n",
        "\n",
        "# Run RosettaFold2\n",
        "app_rf2 = biolib.load('BioITWorkshop/RF2Antibody')  # Replace with actual app ID\n",
        "job_rf2 = app_rf2.run(\n",
        "    pdb=input_dir,\n",
        "    num_recycles=3,\n",
        ")"
      ]
    },
    {
      "cell_type": "markdown",
      "metadata": {
        "id": "cL4SetBkhCJM"
      },
      "source": [
        "#### Wait for RosettaFold2 output files (1-2 minutes)\n",
        "RosettaFold2 predicts the structure of the designed antibodies and provides confidence metrics. We can use these to filter for promising designs.\n",
        "\n",
        "Output files:\n",
        "- scores.csv - Predicted structural quality scores for filtering of designs\n",
        "- _0_dldesign_0.pdb - Predicted structure of design 0\n",
        "- _0_dldesign_1.pdb - Predicted structure of design 1\n",
        "- ... etc\n",
        "\n",
        "Example output scores.tsv:\n",
        "```csv\n",
        "interaction_pae,pae,    pred_lddt,  target_aligned_antibody_rmsd, ..., framework_aligned_cdr_rmsd, ...\n",
        "8.07,           8.77,   0.9,        11.53,                        ..., 2.18,                       ...\n",
        "7.52,           8.19,   0.89,       18.97,                        ..., 2.4,                        ...\n",
        "8.47,           9.15,   0.9,        10.8,                        ...,  2.35,                       ...\n",
        "\n",
        "```\n",
        "\n",
        "Of these, our target values are:\n",
        "- Predicted alignment error (pae) below 10\n",
        "- Framework aligned CDR rmsd (framework_aligned_cdr_rmsd) below 2.00"
      ]
    },
    {
      "cell_type": "code",
      "execution_count": 21,
      "metadata": {
        "colab": {
          "base_uri": "https://localhost:8080/"
        },
        "id": "iMwURoBfhCJM",
        "outputId": "ae4a2561-4d62-40b6-a6c8-85a184aed91c"
      },
      "outputs": [
        {
          "name": "stdout",
          "output_type": "stream",
          "text": [
            "Job is still running...\n"
          ]
        }
      ],
      "source": [
        "# Try to save job output files\n",
        "if job_rf2.is_pending():\n",
        "    print(\"Job is still running...\")\n",
        "else:\n",
        "    job_rf2.save_files(\"output/rosettafold2\", skip_file_if_exists=True)\n",
        "    job_rf2.list_output_files()"
      ]
    },
    {
      "cell_type": "markdown",
      "metadata": {
        "id": "KhAiCmw8hCJM"
      },
      "source": [
        "## Step 4 of 4: Assess designs for pharmaceutical liabilities with [AntibodyProfiler](https://biolib.com/BioLibDevelopment/AntibodyProfiler/)"
      ]
    },
    {
      "cell_type": "markdown",
      "metadata": {
        "id": "s22JuJdchCJM"
      },
      "source": [
        "*Estimated time: <1 minute*\n",
        "\n",
        "Here, we will use our in-house AntibodyProfiler tool to assess our antibody PDBs for how closely they relate to molecular properties of already approved therapeutic antibodies. Antibody designs outside this range may indicate higher risk of pharmaceutical liabilities, providing another early filtering step before designs are sent to the lab for experimental validation.\n",
        "\n",
        "We recommend selecting designs within 2-sigma deviation of approved antibodies for the following metrics:\n",
        "- Total CDR length between 39-60 residues\n",
        "- CDR3 heavy chain length between 5-23 residues\n",
        "- Patches of surface hydrophobicity in CDR vicinity (PSH) between 30-150\n",
        "\n",
        "### [AntibodyProfiler input parameters](https://biolib.com/BioLibDevelopment/AntibodyProfiler/)\n",
        "\n",
        "- **pdb**: Directory containing the PDB files from ProteinMPNN"
      ]
    },
    {
      "cell_type": "code",
      "execution_count": 11,
      "metadata": {
        "colab": {
          "base_uri": "https://localhost:8080/"
        },
        "id": "JJu9BepqhCJM",
        "outputId": "be06ab4f-202a-48e0-b253-5563ddb94222"
      },
      "outputs": [
        {
          "name": "stderr",
          "output_type": "stream",
          "text": [
            "INFO:biolib:Loaded project BioLibDevelopment/AntibodyProfiler:0.0.32\n",
            "INFO:biolib:View the result in your browser at: https://biolib.com/results/60b04ed8-db70-4373-ae9c-e01eedd9e346/\n"
          ]
        }
      ],
      "source": [
        "# Input directory\n",
        "input_dir = \"output/rosettafold2\"  # Using the output from RosettaFold2\n",
        "\n",
        "# Run AntibodyProfiler\n",
        "app_abprofiler = biolib.load('BioLibDevelopment/AntibodyProfiler') # TODO - push to main branch so the last version is used\n",
        "app_abprofiler = app_abprofiler.start(\n",
        "    pdb=input_dir, # DEBUG - need to add automatic csv file generation for dir input, accepting hlt format\n",
        ")"
      ]
    },
    {
      "cell_type": "markdown",
      "metadata": {
        "id": "2rEi4q4GhCJM"
      },
      "source": [
        "#### Wait for AntibodyProfiler output files (<1 minute)\n",
        "AntibodyProfiler calculates developability metrics compared to approved therapeutic antibodies already on the market, giving warning flags for input PDBs outside this range.\n",
        "\n",
        "Main output file:\n",
        "- results.csv (Summary metrics compared to therapeutically approved antibodies for each PDB)\n",
        "\n",
        "```csv\n",
        "pdb_name,       cdrh3_length,total_cdr_length,flag_cdrh3,flag_total_cdr,psh_value,flag_psh\n",
        "_0_dldesign_2,  13,          35,              none,       yellow,       116.90, none\n",
        "_0_dldesign_1,  13,          35,              none,       yellow,       90.53,  none\n",
        "_0_dldesign_0,  13,          35,              none,       yellow,       149.84, none\n",
        "```\n",
        "\n",
        "Of these, our target values are:\n",
        "- CDR3 heavy chain length (cdrh3_length): 5-23\n",
        "- CDR length (total_cdr_length): 39-60\n",
        "- Patches of surface hydrophobicity in CDR vicinity (psh_value): 30-150\n",
        "\n",
        "Values outside this range will be flagged with a color, depending on where they fall in the distribution of human therapeutic antibodies."
      ]
    },
    {
      "cell_type": "code",
      "execution_count": 12,
      "metadata": {
        "colab": {
          "base_uri": "https://localhost:8080/"
        },
        "id": "R_l9Ec9xhCJM",
        "outputId": "41e7cfab-ced2-40b8-dc2e-1028ff72a0db"
      },
      "outputs": [
        {
          "name": "stdout",
          "output_type": "stream",
          "text": [
            "Job is still running...\n"
          ]
        }
      ],
      "source": [
        "# Try to save job output files\n",
        "if app_abprofiler.is_pending():\n",
        "    print(\"Job is still running...\")\n",
        "else:\n",
        "    job_abprofiler.save_files(\"output/abprofiler\", skip_file_if_exists=True)\n",
        "    job_abprofiler.list_output_files()"
      ]
    },
    {
      "cell_type": "markdown",
      "metadata": {
        "id": "-ohAYF6qhCJM"
      },
      "source": [
        "## Conclusion\n",
        "\n",
        "This notebook has demonstrated the complete RFantibody pipeline for structure-based design of de novo antibodies. The workflow consists of three main steps:\n",
        "\n",
        "1. **RFdiffusion (antibody fine-tuned)**: Generating antibody-target docking poses with designed CDR loop structures\n",
        "2. **ProteinMPNN (antibody fine-tuned)**: Designing amino acid sequences for the CDR loops\n",
        "3. **RosettaFold2 (antibody fine-tuned)**: Filtering designs based on predicted structure quality\n",
        "4. **AntibodyProfiler**: Further selection of designs based on similarity to therapeutically approved antibodies\n",
        "\n",
        "This computational pipeline can generate designs with a success rate of approximately 5-10% for some degree of binding to the target. Further experimental validation and optimization is likely to be required to improve binding affinity and other pharmaceutical properties.\n",
        "\n",
        "For larger scale antibody design campaigns, we recommended to generating thousands of designs to increase the chances of finding high-quality binders, as the current filtering metrics are still highly limited."
      ]
    },
    {
      "cell_type": "code",
      "execution_count": null,
      "metadata": {
        "id": "3ESnZr39rdTR"
      },
      "outputs": [],
      "source": []
    }
  ],
  "metadata": {
    "colab": {
      "provenance": []
    },
    "kernelspec": {
      "display_name": "base",
      "language": "python",
      "name": "python3"
    },
    "language_info": {
      "codemirror_mode": {
        "name": "ipython",
        "version": 3
      },
      "file_extension": ".py",
      "mimetype": "text/x-python",
      "name": "python",
      "nbconvert_exporter": "python",
      "pygments_lexer": "ipython3",
      "version": "3.12.4"
    }
  },
  "nbformat": 4,
  "nbformat_minor": 0
}
