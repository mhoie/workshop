{
 "cells": [
  {
   "cell_type": "markdown",
   "metadata": {},
   "source": [
    "Todo:\n",
    "- Add Chotia_to_hlt app\n",
    "- Visualize input files (pre-computed BioLib job URL?)\n",
    "- Update biolib app URLs\n",
    "- Update URLs to official BioLib Repository\n",
    "- Add \"Master\" BioLib app executing all functionality in one app"
   ]
  },
  {
   "cell_type": "markdown",
   "metadata": {},
   "source": [
    "## De novo generation of antibody binders with RFantibody"
   ]
  },
  {
   "cell_type": "markdown",
   "metadata": {},
   "source": [
    "In this notebook, you may choose your own antibody framework and target protein structure, and design novel antibody binders. This workflow has been shown to generate weak antibody binders in the μM to nM range, with up to ~5-10% experimental success rates for some degree of binding.\n",
    "\n",
    "---\n",
    "\n",
    "Antibody therapeutics represent a substantial market (approximately $550M USD) with tremendous potential for treating various diseases. Traditional approaches to antibody discovery are slow and laborious, typically involving immunizing mice or screening random libraries. \n",
    "\n",
    "This notebook implements the RFantibody pipeline for structure-based design of de novo antibodies against a chosen target.\n",
    "\n",
    "It takes two inputs:\n",
    "- i) An input antibody framework (e.g. hu-4D5-8_Fv.pdb - a humanized single-domain antibody already approved in two FDA therapies)\n",
    "- ii) A target protein of interest (e.g. respiratory syncytial virus (RSV) protein) with binding site (epitope residues)\n",
    "\n",
    "And runs the following three methods:\n",
    "1. **De novo design of an antibody backbone targeting a protein of interest** - using an antibody-finetuned version of RFdiffusion ([Nature paper](https://www.nature.com/articles/s41586-023-06415-8))\n",
    "2. **Design of the CDR loop residues** - using ProteinMPNN ([Science paper](https://www.science.org/doi/10.1126/science.add2187))\n",
    "3. **Filtering designs on predicted structure 'self-consistency'** - using an antibody-finetuned version of RoseTTAFold2 ([Preprint](https://www.biorxiv.org/content/10.1101/2023.05.24.542179v1)), shown to correlate with significantly improved experimental success rates.\n",
    "\n",
    "The RFantibody pipeline itself is described in detail in [this preprint](https://www.biorxiv.org/content/10.1101/2024.03.14.585103v2).\n",
    "\n",
    "Advantages:\n",
    "- Designs novel antibodies binding a target protein\n",
    "- Can target most epitope binding region of interest (preferring structured regions)\n",
    "- Focuses on designing antibody CDR loops (main residues determining binding)\n",
    "- Designs may be filtered by \"self-cosistency\" of predicted structures, correlating with experimental success rates\n",
    "\n",
    "Current limitations:\n",
    "- Generated antibodies at best tend to be weak binders (low binding affinities in μM to nM range)\n",
    "- Often low experimental success rates (~5-10% for some degree of binding) - heavily dependent on filtering\n",
    "- No screening for e.g. human immunogenicity"
   ]
  },
  {
   "cell_type": "markdown",
   "metadata": {},
   "source": [
    "## Pre-requisites for this workshop\n",
    "\n",
    "The only pre-requisites for this workshop are the following:\n",
    "- i) A BioLib account (biolib.com) for running RFantibody jobs (requires a GPU) in the cloud.\n",
    "- ii) An antibody PDB and target protein structure PDB. You may use your own, or our examples provided in step 1 below."
   ]
  },
  {
   "cell_type": "markdown",
   "metadata": {},
   "source": [
    "#### i) Install pybiolib and login to biolib.com"
   ]
  },
  {
   "cell_type": "code",
   "execution_count": 1,
   "metadata": {},
   "outputs": [
    {
     "name": "stdout",
     "output_type": "stream",
     "text": [
      "Requirement already satisfied: pybiolib in /Users/mhoie/miniforge3/envs/py310/lib/python3.12/site-packages (1.2.567)\n",
      "Requirement already satisfied: appdirs>=1.4.3 in /Users/mhoie/miniforge3/envs/py310/lib/python3.12/site-packages (from pybiolib) (1.4.4)\n",
      "Requirement already satisfied: click>=8.0.0 in /Users/mhoie/miniforge3/envs/py310/lib/python3.12/site-packages (from pybiolib) (8.1.7)\n",
      "Requirement already satisfied: docker>=5.0.3 in /Users/mhoie/miniforge3/envs/py310/lib/python3.12/site-packages (from pybiolib) (7.1.0)\n",
      "Requirement already satisfied: importlib-metadata>=1.6.1 in /Users/mhoie/miniforge3/envs/py310/lib/python3.12/site-packages (from pybiolib) (8.1.0)\n",
      "Requirement already satisfied: pyyaml>=5.3.1 in /Users/mhoie/.local/lib/python3.12/site-packages (from pybiolib) (6.0.1)\n",
      "Requirement already satisfied: rich>=12.4.4 in /Users/mhoie/miniforge3/envs/py310/lib/python3.12/site-packages (from pybiolib) (13.7.1)\n",
      "Requirement already satisfied: requests>=2.26.0 in /Users/mhoie/miniforge3/envs/py310/lib/python3.12/site-packages (from docker>=5.0.3->pybiolib) (2.32.3)\n",
      "Requirement already satisfied: urllib3>=1.26.0 in /Users/mhoie/miniforge3/envs/py310/lib/python3.12/site-packages (from docker>=5.0.3->pybiolib) (2.2.2)\n",
      "Requirement already satisfied: zipp>=0.5 in /Users/mhoie/miniforge3/envs/py310/lib/python3.12/site-packages (from importlib-metadata>=1.6.1->pybiolib) (3.19.2)\n",
      "Requirement already satisfied: markdown-it-py>=2.2.0 in /Users/mhoie/miniforge3/envs/py310/lib/python3.12/site-packages (from rich>=12.4.4->pybiolib) (3.0.0)\n",
      "Requirement already satisfied: pygments<3.0.0,>=2.13.0 in /Users/mhoie/miniforge3/envs/py310/lib/python3.12/site-packages (from rich>=12.4.4->pybiolib) (2.18.0)\n",
      "Requirement already satisfied: mdurl~=0.1 in /Users/mhoie/miniforge3/envs/py310/lib/python3.12/site-packages (from markdown-it-py>=2.2.0->rich>=12.4.4->pybiolib) (0.1.2)\n",
      "Requirement already satisfied: charset-normalizer<4,>=2 in /Users/mhoie/miniforge3/envs/py310/lib/python3.12/site-packages (from requests>=2.26.0->docker>=5.0.3->pybiolib) (3.3.2)\n",
      "Requirement already satisfied: idna<4,>=2.5 in /Users/mhoie/miniforge3/envs/py310/lib/python3.12/site-packages (from requests>=2.26.0->docker>=5.0.3->pybiolib) (3.7)\n",
      "Requirement already satisfied: certifi>=2017.4.17 in /Users/mhoie/miniforge3/envs/py310/lib/python3.12/site-packages (from requests>=2.26.0->docker>=5.0.3->pybiolib) (2024.7.4)\n",
      "2025-03-17 18:15:58,776 | INFO : Already signed in\n"
     ]
    }
   ],
   "source": [
    "# Download BioLib\n",
    "!pip install --upgrade pybiolib\n",
    "\n",
    "# Login with Biolib\n",
    "import biolib\n",
    "biolib.login()"
   ]
  },
  {
   "cell_type": "markdown",
   "metadata": {},
   "source": [
    "#### ii) Set input antibody and target PDB\n",
    "First, let's set up our environment and input files. We're working with two primary input files:\n",
    "\n",
    "1. **framework_pdb**: `hu-4D5-8_Fv.pdb` - Our humanized single domain antibody (VHH) framework\n",
    "2. **target_pdb**: `rsv_site3.pdb` - The target protein (RSV site 3) of interest\n",
    "3. List of hotspot residues defining our epitope (target binding site)\n",
    "\n",
    "You may also choose your own antibody framework and target PDB, prepared with this script:\n",
    "https://github.com/RosettaCommons/RFantibody?tab=readme-ov-file#input-preparation\n",
    "\n",
    "Let's verify that these files exists."
   ]
  },
  {
   "cell_type": "code",
   "execution_count": 19,
   "metadata": {},
   "outputs": [
    {
     "name": "stdout",
     "output_type": "stream",
     "text": [
      "Framework PDB exists: False\n",
      "Target PDB exists: False\n",
      "(If these are missing, please download from https://github.com/mhoie/bioit-rfantibody before proceeding)\n"
     ]
    }
   ],
   "source": [
    "import os\n",
    "framework_pdb = \"hu-4D5-8_Fv.pdb\"\n",
    "target_pdb = \"rsv_site3.pdb\"\n",
    "hotspot_res = \"[T305,T456]\"\n",
    "print(f\"Framework PDB exists: {os.path.exists(framework_pdb)}\")\n",
    "print(f\"Target PDB exists: {os.path.exists(target_pdb)}\")\n",
    "print(f\"(If these are missing, please download from https://github.com/mhoie/bioit-rfantibody before proceeding)\")"
   ]
  },
  {
   "cell_type": "markdown",
   "metadata": {},
   "source": [
    "## Step 1 of 3: Generate antibody-antigen docking pose, with [RFDiffusion (antibody-finetuned)](https://biolib.com/BioLibDevelopment/prediction-app/)\n",
    "\n",
    "This step takes the input antibody framework and target protein, and designs the 3D structure of new CDR loops in interaction with the target protein (antibody-antigen docking pose). The CDR loops will be generated as backbones only (no residues), with the actual residues to be determined in the next step."
   ]
  },
  {
   "cell_type": "markdown",
   "metadata": {},
   "source": [
    "#### [Input parameters](https://biolib.com/BioLibDevelopment/prediction-app/)\n",
    "\n",
    "Already set above:\n",
    "- **antibody.framework_pdb**: Path to the antibody framework we're using (e.g. hu-4D5-8_Fv.pdb)\n",
    "- **antibody.target_pdb**: Path to the target protein structure (e.g. rsv_site3.pdb)\n",
    "- **ppi.hotspot_res**: List of hotspot residues defining our epitope (target binding site)\n",
    "\n",
    "New parameters:\n",
    "- **antibody.design_loops**: Dictionary mapping each CDR loop to a range of allowed loop lengths\n",
    "  - L1, L2, L3: Light chain CDR loops\n",
    "  - H1, H2, H3: Heavy chain CDR loops\n",
    "  - Numbers specify length ranges (e.g., L1:8-13 means loop L1 can be 8-13 residues long)\n",
    "  - Example: `[L1:8-13,L2:7,L3:9-11,H1:7,H2:6,H3:5-13]`\n",
    "- **inference.num_designs**: Number of designs to generate (20)\n"
   ]
  },
  {
   "cell_type": "code",
   "execution_count": 5,
   "metadata": {},
   "outputs": [
    {
     "name": "stdout",
     "output_type": "stream",
     "text": [
      "2025-03-17 18:17:34,315 | INFO : Loaded project BioLibDevelopment/prediction-app:0.0.39\n"
     ]
    }
   ],
   "source": [
    "# Input parameters (antibody framework and target PDBs are set above)\n",
    "design_loops = \"[L1:8-13,L2:7,L3:9-11,H1:7,H2:6,H3:5-13]\"\n",
    "num_designs = 20\n",
    "\n",
    "# Output directory\n",
    "outdir_rfdiff = \"output/rfdiffusion\"\n",
    "\n",
    "# Run RFdiffusion through BioLib\n",
    "app_rfdiff = biolib.load('BioLibDevelopment/prediction-app')  # Replace with actual RFantibody app ID\n",
    "job_rfdiff = app_rfdiff.cli(args=[\n",
    "    \"--antibody.framework_pdb\", f\"{framework_pdb}\",\n",
    "    \"--antibody.target_pdb\", f\"{target_pdb}\",\n",
    "    \"--ppi.hotspot_res\", f\"{hotspot_res}\",\n",
    "    \"--antibody.design_loops\", f\"{design_loops}\",\n",
    "    \"--inference.num_designs\", f\"{num_designs}\",\n",
    "], blocking=False)"
   ]
  },
  {
   "cell_type": "markdown",
   "metadata": {},
   "source": [
    "#### RFdiffusion output files\n",
    "The RFdiffusion step generates PDB files containing the antibody framework with designed CDR loops docked to the target protein. At this stage, the CDR loops have backbone structures but no amino acid sequences yet!\n",
    "\n",
    "Output files:\n",
    "- example.pdb - Antibody PDB structure, lacking the CDR loop residues (which will be predicted in the next step)\n",
    "\n",
    "You can visualize the job output at the URL printed below, and store output files when the job is completed."
   ]
  },
  {
   "cell_type": "code",
   "execution_count": 7,
   "metadata": {},
   "outputs": [
    {
     "name": "stdout",
     "output_type": "stream",
     "text": [
      "Job URL: https://biolib.com/results/58d16a9b-8562-408c-9545-dee80c8bdaff\n",
      "2025-03-17 18:17:53,519 | INFO : Saving 1 files to output/rfdiffusion...\n",
      "Generated 0 PDB files\n"
     ]
    }
   ],
   "source": [
    "# Try to save job output files\n",
    "print(f\"Job URL: https://biolib.com/results/{job_rfdiff.id}\")\n",
    "if job_rfdiff.get_status() == \"completed\":\n",
    "    job_rfdiff.save_files(outdir_rfdiff)\n",
    "    print(f\"Generated {len([f for f in os.listdir(outdir_rfdiff) if f.endswith('.pdb')])} PDB files\")\n",
    "else:\n",
    "    print(f\"Job status is not completed ({job_rfdiff.get_status()}), please wait a moment (or try again if failed)\")"
   ]
  },
  {
   "cell_type": "markdown",
   "metadata": {},
   "source": [
    "## Step 2: Design binding CDR loop residues with [ProteinMPNN](https://biolib.com/BioLibDevelopment/prediction-app/)\n",
    "\n",
    "The second step takes the docks generated by RFdiffusion and assigns amino acid sequences to the CDR loops using ProteinMPNN. We use the base version of ProteinMPNN (not an antibody-finetuned model) with a wrapper script that focuses on designing just the CDR loops.\n",
    "\n",
    "#### [Input parameters](https://biolib.com/BioLibDevelopment/prediction-app/)\n",
    "- **pdbdir**: Directory containing the input PDB files from RFdiffusion\n"
   ]
  },
  {
   "cell_type": "code",
   "execution_count": 9,
   "metadata": {},
   "outputs": [
    {
     "name": "stdout",
     "output_type": "stream",
     "text": [
      "2025-03-17 18:18:27,267 | INFO : Loaded project BioLibDevelopment/prediction-app:0.0.39\n"
     ]
    }
   ],
   "source": [
    "# Input directory\n",
    "input_dir = outdir_rfdiff  # Using the output from RFdiffusion\n",
    "\n",
    "# Output directory\n",
    "outdir_mpnn = \"output/proteinmpnn\"\n",
    "\n",
    "# Run ProteinMPNN\n",
    "app_mpnn = biolib.load('BioLibDevelopment/prediction-app')  # Replace with actual app ID\n",
    "job_mpnn = app_mpnn.cli(args=[\n",
    "    \"-pdbdir\", f\"{input_dir}\",\n",
    "    \"-num_seq_per_target\", \"1\"\n",
    "], blocking=False)"
   ]
  },
  {
   "cell_type": "markdown",
   "metadata": {},
   "source": [
    "#### ProteinMPNN outputs\n",
    "ProteinMPNN outputs PDB files with the same structures as the input but with amino acid sequences designed for the CDR loops. By default, it provides one sequence per input structure.\n",
    "\n",
    "Output files:\n",
    "- example.pdb (antibody structure with predicted CDR residues)\n"
   ]
  },
  {
   "cell_type": "code",
   "execution_count": 12,
   "metadata": {},
   "outputs": [
    {
     "name": "stdout",
     "output_type": "stream",
     "text": [
      "Job URL: https://biolib.com/results/717cfc8f-e18f-4a58-bb70-e4f68a2103d0\n",
      "2025-03-17 18:18:38,722 | INFO : Saving 1 files to output/proteinmpnn...\n",
      "Generated 0 PDB files\n"
     ]
    }
   ],
   "source": [
    "# Try to save job output files\n",
    "print(f\"Job URL: https://biolib.com/results/{job_mpnn.id}\")\n",
    "if job_mpnn.get_status() == \"completed\":\n",
    "    job_mpnn.save_files(outdir_mpnn)\n",
    "    print(f\"Generated {len([f for f in os.listdir(outdir_mpnn) if f.endswith('.pdb')])} PDB files\")\n",
    "else:\n",
    "    print(f\"Job status is not completed ({job_mpnn.get_status()}), please wait a moment (or try again if failed)\")"
   ]
  },
  {
   "cell_type": "markdown",
   "metadata": {},
   "source": [
    "## Step 3 / 3: Filter designs for predicted structure self-consistency, with [RosettaFold2 antibody fine-tuned](https://biolib.com/BioLibDevelopment/prediction-app/)\n",
    "The final step uses an antibody-finetuned version of RoseTTAFold2 (RF2) to predict the structure of the designed sequences and assess whether RF2 is confident that the sequence will bind as designed.\n",
    "\n",
    "The RFantibody protocol recommends filtering on the following metrics, shown to lead to an up to 10X improvement in experimental success rates.\n",
    "- RF2 predicted alignment error (pAE) < 10\n",
    "- RMSD between design and RF2 prediction < 2Å\n",
    "\n",
    "### [Input parameters](https://biolib.com/BioLibDevelopment/prediction-app/)\n",
    "\n",
    "- **input.pdb_dir**: Directory containing the PDB files from ProteinMPNN\n",
    "- **num_recycles**: Number of recycling iterations in the model (default: 10)\n",
    "- **hotspot**: Percentage of hotspots provided to the model (default: 10%)"
   ]
  },
  {
   "cell_type": "code",
   "execution_count": 15,
   "metadata": {},
   "outputs": [
    {
     "name": "stdout",
     "output_type": "stream",
     "text": [
      "2025-03-17 18:19:29,310 | INFO : Loaded project BioLibDevelopment/prediction-app:0.0.39\n"
     ]
    }
   ],
   "source": [
    "# Input directory\n",
    "input_dir = outdir_mpnn  # Using the output from ProteinMPNN\n",
    "\n",
    "# Output directory\n",
    "outdir_rf2 = \"output/rosettfold2\"\n",
    "\n",
    "# Run RosettaFold2\n",
    "app_rf2 = biolib.load('BioLibDevelopment/prediction-app')  # Replace with actual app ID\n",
    "job_rf2 = app_rf2.cli(args=[\n",
    "    \"input.pdb_dir\", f\"{input_dir}\",\n",
    "    \"num_recycles\", \"10\",\n",
    "    \"hotspot\", \"0.1\"\n",
    "], blocking=False)"
   ]
  },
  {
   "cell_type": "markdown",
   "metadata": {},
   "source": [
    "# RosettaFold2 outputs\n",
    "RosettaFold2 predicts the structure of the designed antibodies and provides confidence metrics. We can use these to filter for promising designs.\n",
    "\n",
    "Output files:\n",
    "- example.pdb - Predicted structure"
   ]
  },
  {
   "cell_type": "code",
   "execution_count": 18,
   "metadata": {},
   "outputs": [
    {
     "name": "stdout",
     "output_type": "stream",
     "text": [
      "Job URL: https://biolib.com/results/24e7ad8e-7a24-41e9-8a81-5308517bdf56\n",
      "2025-03-17 18:19:46,309 | INFO : Saving 1 files to output/rosettfold2...\n",
      "Generated 0 PDB files\n"
     ]
    }
   ],
   "source": [
    "# Try to save job output files\n",
    "print(f\"Job URL: https://biolib.com/results/{job_rf2.id}\")\n",
    "if job_rf2.get_status() == \"completed\":\n",
    "    job_rf2.save_files(outdir_rf2)\n",
    "    print(f\"Generated {len([f for f in os.listdir(outdir_rf2) if f.endswith('.pdb')])} PDB files\")\n",
    "else:\n",
    "    print(f\"Job status is not completed ({job_rf2.get_status()}), please wait a moment (or try again if failed)\")"
   ]
  },
  {
   "cell_type": "markdown",
   "metadata": {},
   "source": [
    "## Conclusion\n",
    "\n",
    "This notebook has demonstrated the complete RFantibody pipeline for structure-based design of de novo antibodies. The workflow consists of three main steps:\n",
    "\n",
    "1. **RFdiffusion**: Generating antibody-target docking poses with designed CDR loop structures\n",
    "2. **ProteinMPNN**: Designing amino acid sequences for the CDR loops\n",
    "3. **RF2**: Filtering designs based on predicted structure quality\n",
    "\n",
    "This computational pipeline can generate designs with a success rate of approximately 5-10% for some degree of binding to the target. Further experimental validation and optimization is likely to be required to improve binding affinity and other pharmaceutical properties.\n",
    "\n",
    "For larger scale antibody design campaigns, we recommended to generating thousands of designs to increase the chances of finding high-quality binders, as the current filtering metrics are still highly limited."
   ]
  }
 ],
 "metadata": {
  "kernelspec": {
   "display_name": "py310",
   "language": "python",
   "name": "python3"
  },
  "language_info": {
   "codemirror_mode": {
    "name": "ipython",
    "version": 3
   },
   "file_extension": ".py",
   "mimetype": "text/x-python",
   "name": "python",
   "nbconvert_exporter": "python",
   "pygments_lexer": "ipython3",
   "version": "3.12.4"
  }
 },
 "nbformat": 4,
 "nbformat_minor": 2
}
